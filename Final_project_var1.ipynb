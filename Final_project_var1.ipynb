{
  "cells": [
    {
      "cell_type": "markdown",
      "source": [
        "# Проект 1\n",
        "\n",
        "Представьте, что вы работаете в компании, которая разрабатывает мобильные игры. К вам пришел менеджер с рядом задач по исследованию нескольких аспектов мобильного приложения:\n",
        "\n",
        "\n",
        "\n",
        "*   В первую очередь, его интересует показатель retention. Напишите функцию для его подсчета.\n",
        "*   Помимо этого, в компании провели A/B тестирование наборов акционных предложений. На основе имеющихся данных определите, какой набор можно считать лучшим и на основе каких метрик стоит принять правильное решение.\n",
        "*   Предложите метрики для оценки результатов последнего прошедшего тематического события в игре.\n",
        "\n",
        "\n",
        "\n"
      ],
      "metadata": {
        "id": "BmBOlsorhRNc"
      }
    },
    {
      "cell_type": "markdown",
      "source": [
        "# Задание 1\n",
        "\n",
        "Retention – один из самых важных показателей в компании. **Ваша задача – написать функцию, которая будет считать retention игроков (по дням от даты регистрации игрока).**\n",
        "\n",
        "Данные хранятся на яндекс.диске, ссылки для скачивания:\n",
        "\n",
        "reg_data.csv – данные о времени регистрации https://disk.yandex.ru/d/_y1WylHbbVHhRw\n",
        "\n",
        "auth_data.csv – данные о времени захода пользователей в игру https://disk.yandex.ru/d/DoRXITTlEui0vA"
      ],
      "metadata": {
        "id": "j3nKrb9Mhimf"
      }
    },
    {
      "cell_type": "markdown",
      "metadata": {
        "id": "QCYqxIEAE34k"
      },
      "source": [
        "# Импорт необходимых библиотек"
      ]
    },
    {
      "cell_type": "code",
      "execution_count": 6,
      "metadata": {
        "id": "e2FUSI1FE34n"
      },
      "outputs": [],
      "source": [
        "import pandas as pd\n",
        "import numpy as np\n",
        "import matplotlib.pylab as plt\n",
        "import seaborn as sns\n",
        "import requests\n",
        "from urllib.parse import urlencode\n",
        "from operator import attrgetter\n",
        "from scipy import stats\n",
        "from scipy.stats import levene\n",
        "from statsmodels.stats.proportion import proportions_ztest"
      ]
    },
    {
      "cell_type": "code",
      "source": [
        "base_url = 'https://cloud-api.yandex.net/v1/disk/public/resources/download?'\n",
        "df_urls = {'reg_data': 'https://disk.yandex.ru/d/_y1WylHbbVHhRw',\n",
        "             'auth_data': 'https://disk.yandex.ru/d/DoRXITTlEui0vA'}\n",
        "\n",
        "# Получаю ссылку для загрузки\n",
        "for key, value in df_urls.items():\n",
        "    final_url = base_url + urlencode(dict(public_key=value))\n",
        "    response = requests.get(final_url)\n",
        "    download_url = response.json()['href']\n",
        "    # Загружю и сохраняю файл\n",
        "    download_response = requests.get(download_url)\n",
        "    with open(f'{key}.csv', 'wb') as f:\n",
        "        f.write(download_response.content)"
      ],
      "metadata": {
        "id": "v3yiEDhgMXXR"
      },
      "execution_count": 7,
      "outputs": []
    },
    {
      "cell_type": "code",
      "execution_count": 8,
      "metadata": {
        "id": "hzs8eiSEE34o"
      },
      "outputs": [],
      "source": [
        "data_reg = pd.read_csv('reg_data.csv', sep=';')\n",
        "data_auth = pd.read_csv('auth_data.csv', sep=';')"
      ]
    },
    {
      "cell_type": "markdown",
      "metadata": {
        "id": "ld02xBfQE34o"
      },
      "source": [
        "Сначала посмотрю на структуру данных и оценю, нужно ли проводить предобработку данных"
      ]
    },
    {
      "cell_type": "code",
      "execution_count": 9,
      "metadata": {
        "id": "41oNfRSzE34p",
        "outputId": "064b6d6a-6ac8-4f86-da4a-b91677f31709",
        "colab": {
          "base_uri": "https://localhost:8080/",
          "height": 206
        }
      },
      "outputs": [
        {
          "output_type": "execute_result",
          "data": {
            "text/plain": [
              "      reg_ts  uid\n",
              "0  911382223    1\n",
              "1  932683089    2\n",
              "2  947802447    3\n",
              "3  959523541    4\n",
              "4  969103313    5"
            ],
            "text/html": [
              "\n",
              "  <div id=\"df-d8bcc181-f42f-4b3e-baea-81b0232d2520\" class=\"colab-df-container\">\n",
              "    <div>\n",
              "<style scoped>\n",
              "    .dataframe tbody tr th:only-of-type {\n",
              "        vertical-align: middle;\n",
              "    }\n",
              "\n",
              "    .dataframe tbody tr th {\n",
              "        vertical-align: top;\n",
              "    }\n",
              "\n",
              "    .dataframe thead th {\n",
              "        text-align: right;\n",
              "    }\n",
              "</style>\n",
              "<table border=\"1\" class=\"dataframe\">\n",
              "  <thead>\n",
              "    <tr style=\"text-align: right;\">\n",
              "      <th></th>\n",
              "      <th>reg_ts</th>\n",
              "      <th>uid</th>\n",
              "    </tr>\n",
              "  </thead>\n",
              "  <tbody>\n",
              "    <tr>\n",
              "      <th>0</th>\n",
              "      <td>911382223</td>\n",
              "      <td>1</td>\n",
              "    </tr>\n",
              "    <tr>\n",
              "      <th>1</th>\n",
              "      <td>932683089</td>\n",
              "      <td>2</td>\n",
              "    </tr>\n",
              "    <tr>\n",
              "      <th>2</th>\n",
              "      <td>947802447</td>\n",
              "      <td>3</td>\n",
              "    </tr>\n",
              "    <tr>\n",
              "      <th>3</th>\n",
              "      <td>959523541</td>\n",
              "      <td>4</td>\n",
              "    </tr>\n",
              "    <tr>\n",
              "      <th>4</th>\n",
              "      <td>969103313</td>\n",
              "      <td>5</td>\n",
              "    </tr>\n",
              "  </tbody>\n",
              "</table>\n",
              "</div>\n",
              "    <div class=\"colab-df-buttons\">\n",
              "\n",
              "  <div class=\"colab-df-container\">\n",
              "    <button class=\"colab-df-convert\" onclick=\"convertToInteractive('df-d8bcc181-f42f-4b3e-baea-81b0232d2520')\"\n",
              "            title=\"Convert this dataframe to an interactive table.\"\n",
              "            style=\"display:none;\">\n",
              "\n",
              "  <svg xmlns=\"http://www.w3.org/2000/svg\" height=\"24px\" viewBox=\"0 -960 960 960\">\n",
              "    <path d=\"M120-120v-720h720v720H120Zm60-500h600v-160H180v160Zm220 220h160v-160H400v160Zm0 220h160v-160H400v160ZM180-400h160v-160H180v160Zm440 0h160v-160H620v160ZM180-180h160v-160H180v160Zm440 0h160v-160H620v160Z\"/>\n",
              "  </svg>\n",
              "    </button>\n",
              "\n",
              "  <style>\n",
              "    .colab-df-container {\n",
              "      display:flex;\n",
              "      gap: 12px;\n",
              "    }\n",
              "\n",
              "    .colab-df-convert {\n",
              "      background-color: #E8F0FE;\n",
              "      border: none;\n",
              "      border-radius: 50%;\n",
              "      cursor: pointer;\n",
              "      display: none;\n",
              "      fill: #1967D2;\n",
              "      height: 32px;\n",
              "      padding: 0 0 0 0;\n",
              "      width: 32px;\n",
              "    }\n",
              "\n",
              "    .colab-df-convert:hover {\n",
              "      background-color: #E2EBFA;\n",
              "      box-shadow: 0px 1px 2px rgba(60, 64, 67, 0.3), 0px 1px 3px 1px rgba(60, 64, 67, 0.15);\n",
              "      fill: #174EA6;\n",
              "    }\n",
              "\n",
              "    .colab-df-buttons div {\n",
              "      margin-bottom: 4px;\n",
              "    }\n",
              "\n",
              "    [theme=dark] .colab-df-convert {\n",
              "      background-color: #3B4455;\n",
              "      fill: #D2E3FC;\n",
              "    }\n",
              "\n",
              "    [theme=dark] .colab-df-convert:hover {\n",
              "      background-color: #434B5C;\n",
              "      box-shadow: 0px 1px 3px 1px rgba(0, 0, 0, 0.15);\n",
              "      filter: drop-shadow(0px 1px 2px rgba(0, 0, 0, 0.3));\n",
              "      fill: #FFFFFF;\n",
              "    }\n",
              "  </style>\n",
              "\n",
              "    <script>\n",
              "      const buttonEl =\n",
              "        document.querySelector('#df-d8bcc181-f42f-4b3e-baea-81b0232d2520 button.colab-df-convert');\n",
              "      buttonEl.style.display =\n",
              "        google.colab.kernel.accessAllowed ? 'block' : 'none';\n",
              "\n",
              "      async function convertToInteractive(key) {\n",
              "        const element = document.querySelector('#df-d8bcc181-f42f-4b3e-baea-81b0232d2520');\n",
              "        const dataTable =\n",
              "          await google.colab.kernel.invokeFunction('convertToInteractive',\n",
              "                                                    [key], {});\n",
              "        if (!dataTable) return;\n",
              "\n",
              "        const docLinkHtml = 'Like what you see? Visit the ' +\n",
              "          '<a target=\"_blank\" href=https://colab.research.google.com/notebooks/data_table.ipynb>data table notebook</a>'\n",
              "          + ' to learn more about interactive tables.';\n",
              "        element.innerHTML = '';\n",
              "        dataTable['output_type'] = 'display_data';\n",
              "        await google.colab.output.renderOutput(dataTable, element);\n",
              "        const docLink = document.createElement('div');\n",
              "        docLink.innerHTML = docLinkHtml;\n",
              "        element.appendChild(docLink);\n",
              "      }\n",
              "    </script>\n",
              "  </div>\n",
              "\n",
              "\n",
              "<div id=\"df-39c68f95-4759-48b8-800e-b27ccc12e373\">\n",
              "  <button class=\"colab-df-quickchart\" onclick=\"quickchart('df-39c68f95-4759-48b8-800e-b27ccc12e373')\"\n",
              "            title=\"Suggest charts\"\n",
              "            style=\"display:none;\">\n",
              "\n",
              "<svg xmlns=\"http://www.w3.org/2000/svg\" height=\"24px\"viewBox=\"0 0 24 24\"\n",
              "     width=\"24px\">\n",
              "    <g>\n",
              "        <path d=\"M19 3H5c-1.1 0-2 .9-2 2v14c0 1.1.9 2 2 2h14c1.1 0 2-.9 2-2V5c0-1.1-.9-2-2-2zM9 17H7v-7h2v7zm4 0h-2V7h2v10zm4 0h-2v-4h2v4z\"/>\n",
              "    </g>\n",
              "</svg>\n",
              "  </button>\n",
              "\n",
              "<style>\n",
              "  .colab-df-quickchart {\n",
              "      --bg-color: #E8F0FE;\n",
              "      --fill-color: #1967D2;\n",
              "      --hover-bg-color: #E2EBFA;\n",
              "      --hover-fill-color: #174EA6;\n",
              "      --disabled-fill-color: #AAA;\n",
              "      --disabled-bg-color: #DDD;\n",
              "  }\n",
              "\n",
              "  [theme=dark] .colab-df-quickchart {\n",
              "      --bg-color: #3B4455;\n",
              "      --fill-color: #D2E3FC;\n",
              "      --hover-bg-color: #434B5C;\n",
              "      --hover-fill-color: #FFFFFF;\n",
              "      --disabled-bg-color: #3B4455;\n",
              "      --disabled-fill-color: #666;\n",
              "  }\n",
              "\n",
              "  .colab-df-quickchart {\n",
              "    background-color: var(--bg-color);\n",
              "    border: none;\n",
              "    border-radius: 50%;\n",
              "    cursor: pointer;\n",
              "    display: none;\n",
              "    fill: var(--fill-color);\n",
              "    height: 32px;\n",
              "    padding: 0;\n",
              "    width: 32px;\n",
              "  }\n",
              "\n",
              "  .colab-df-quickchart:hover {\n",
              "    background-color: var(--hover-bg-color);\n",
              "    box-shadow: 0 1px 2px rgba(60, 64, 67, 0.3), 0 1px 3px 1px rgba(60, 64, 67, 0.15);\n",
              "    fill: var(--button-hover-fill-color);\n",
              "  }\n",
              "\n",
              "  .colab-df-quickchart-complete:disabled,\n",
              "  .colab-df-quickchart-complete:disabled:hover {\n",
              "    background-color: var(--disabled-bg-color);\n",
              "    fill: var(--disabled-fill-color);\n",
              "    box-shadow: none;\n",
              "  }\n",
              "\n",
              "  .colab-df-spinner {\n",
              "    border: 2px solid var(--fill-color);\n",
              "    border-color: transparent;\n",
              "    border-bottom-color: var(--fill-color);\n",
              "    animation:\n",
              "      spin 1s steps(1) infinite;\n",
              "  }\n",
              "\n",
              "  @keyframes spin {\n",
              "    0% {\n",
              "      border-color: transparent;\n",
              "      border-bottom-color: var(--fill-color);\n",
              "      border-left-color: var(--fill-color);\n",
              "    }\n",
              "    20% {\n",
              "      border-color: transparent;\n",
              "      border-left-color: var(--fill-color);\n",
              "      border-top-color: var(--fill-color);\n",
              "    }\n",
              "    30% {\n",
              "      border-color: transparent;\n",
              "      border-left-color: var(--fill-color);\n",
              "      border-top-color: var(--fill-color);\n",
              "      border-right-color: var(--fill-color);\n",
              "    }\n",
              "    40% {\n",
              "      border-color: transparent;\n",
              "      border-right-color: var(--fill-color);\n",
              "      border-top-color: var(--fill-color);\n",
              "    }\n",
              "    60% {\n",
              "      border-color: transparent;\n",
              "      border-right-color: var(--fill-color);\n",
              "    }\n",
              "    80% {\n",
              "      border-color: transparent;\n",
              "      border-right-color: var(--fill-color);\n",
              "      border-bottom-color: var(--fill-color);\n",
              "    }\n",
              "    90% {\n",
              "      border-color: transparent;\n",
              "      border-bottom-color: var(--fill-color);\n",
              "    }\n",
              "  }\n",
              "</style>\n",
              "\n",
              "  <script>\n",
              "    async function quickchart(key) {\n",
              "      const quickchartButtonEl =\n",
              "        document.querySelector('#' + key + ' button');\n",
              "      quickchartButtonEl.disabled = true;  // To prevent multiple clicks.\n",
              "      quickchartButtonEl.classList.add('colab-df-spinner');\n",
              "      try {\n",
              "        const charts = await google.colab.kernel.invokeFunction(\n",
              "            'suggestCharts', [key], {});\n",
              "      } catch (error) {\n",
              "        console.error('Error during call to suggestCharts:', error);\n",
              "      }\n",
              "      quickchartButtonEl.classList.remove('colab-df-spinner');\n",
              "      quickchartButtonEl.classList.add('colab-df-quickchart-complete');\n",
              "    }\n",
              "    (() => {\n",
              "      let quickchartButtonEl =\n",
              "        document.querySelector('#df-39c68f95-4759-48b8-800e-b27ccc12e373 button');\n",
              "      quickchartButtonEl.style.display =\n",
              "        google.colab.kernel.accessAllowed ? 'block' : 'none';\n",
              "    })();\n",
              "  </script>\n",
              "</div>\n",
              "    </div>\n",
              "  </div>\n"
            ],
            "application/vnd.google.colaboratory.intrinsic+json": {
              "type": "dataframe",
              "variable_name": "data_reg"
            }
          },
          "metadata": {},
          "execution_count": 9
        }
      ],
      "source": [
        "data_reg.head()"
      ]
    },
    {
      "cell_type": "code",
      "execution_count": 10,
      "metadata": {
        "id": "YUYXZCPlE34p",
        "outputId": "40c9fd89-37b5-4895-de85-a2bca1671984",
        "colab": {
          "base_uri": "https://localhost:8080/",
          "height": 206
        }
      },
      "outputs": [
        {
          "output_type": "execute_result",
          "data": {
            "text/plain": [
              "     auth_ts  uid\n",
              "0  911382223    1\n",
              "1  932683089    2\n",
              "2  932921206    2\n",
              "3  933393015    2\n",
              "4  933875379    2"
            ],
            "text/html": [
              "\n",
              "  <div id=\"df-a76bf0b2-e29d-4c3a-85d8-a218ee232b76\" class=\"colab-df-container\">\n",
              "    <div>\n",
              "<style scoped>\n",
              "    .dataframe tbody tr th:only-of-type {\n",
              "        vertical-align: middle;\n",
              "    }\n",
              "\n",
              "    .dataframe tbody tr th {\n",
              "        vertical-align: top;\n",
              "    }\n",
              "\n",
              "    .dataframe thead th {\n",
              "        text-align: right;\n",
              "    }\n",
              "</style>\n",
              "<table border=\"1\" class=\"dataframe\">\n",
              "  <thead>\n",
              "    <tr style=\"text-align: right;\">\n",
              "      <th></th>\n",
              "      <th>auth_ts</th>\n",
              "      <th>uid</th>\n",
              "    </tr>\n",
              "  </thead>\n",
              "  <tbody>\n",
              "    <tr>\n",
              "      <th>0</th>\n",
              "      <td>911382223</td>\n",
              "      <td>1</td>\n",
              "    </tr>\n",
              "    <tr>\n",
              "      <th>1</th>\n",
              "      <td>932683089</td>\n",
              "      <td>2</td>\n",
              "    </tr>\n",
              "    <tr>\n",
              "      <th>2</th>\n",
              "      <td>932921206</td>\n",
              "      <td>2</td>\n",
              "    </tr>\n",
              "    <tr>\n",
              "      <th>3</th>\n",
              "      <td>933393015</td>\n",
              "      <td>2</td>\n",
              "    </tr>\n",
              "    <tr>\n",
              "      <th>4</th>\n",
              "      <td>933875379</td>\n",
              "      <td>2</td>\n",
              "    </tr>\n",
              "  </tbody>\n",
              "</table>\n",
              "</div>\n",
              "    <div class=\"colab-df-buttons\">\n",
              "\n",
              "  <div class=\"colab-df-container\">\n",
              "    <button class=\"colab-df-convert\" onclick=\"convertToInteractive('df-a76bf0b2-e29d-4c3a-85d8-a218ee232b76')\"\n",
              "            title=\"Convert this dataframe to an interactive table.\"\n",
              "            style=\"display:none;\">\n",
              "\n",
              "  <svg xmlns=\"http://www.w3.org/2000/svg\" height=\"24px\" viewBox=\"0 -960 960 960\">\n",
              "    <path d=\"M120-120v-720h720v720H120Zm60-500h600v-160H180v160Zm220 220h160v-160H400v160Zm0 220h160v-160H400v160ZM180-400h160v-160H180v160Zm440 0h160v-160H620v160ZM180-180h160v-160H180v160Zm440 0h160v-160H620v160Z\"/>\n",
              "  </svg>\n",
              "    </button>\n",
              "\n",
              "  <style>\n",
              "    .colab-df-container {\n",
              "      display:flex;\n",
              "      gap: 12px;\n",
              "    }\n",
              "\n",
              "    .colab-df-convert {\n",
              "      background-color: #E8F0FE;\n",
              "      border: none;\n",
              "      border-radius: 50%;\n",
              "      cursor: pointer;\n",
              "      display: none;\n",
              "      fill: #1967D2;\n",
              "      height: 32px;\n",
              "      padding: 0 0 0 0;\n",
              "      width: 32px;\n",
              "    }\n",
              "\n",
              "    .colab-df-convert:hover {\n",
              "      background-color: #E2EBFA;\n",
              "      box-shadow: 0px 1px 2px rgba(60, 64, 67, 0.3), 0px 1px 3px 1px rgba(60, 64, 67, 0.15);\n",
              "      fill: #174EA6;\n",
              "    }\n",
              "\n",
              "    .colab-df-buttons div {\n",
              "      margin-bottom: 4px;\n",
              "    }\n",
              "\n",
              "    [theme=dark] .colab-df-convert {\n",
              "      background-color: #3B4455;\n",
              "      fill: #D2E3FC;\n",
              "    }\n",
              "\n",
              "    [theme=dark] .colab-df-convert:hover {\n",
              "      background-color: #434B5C;\n",
              "      box-shadow: 0px 1px 3px 1px rgba(0, 0, 0, 0.15);\n",
              "      filter: drop-shadow(0px 1px 2px rgba(0, 0, 0, 0.3));\n",
              "      fill: #FFFFFF;\n",
              "    }\n",
              "  </style>\n",
              "\n",
              "    <script>\n",
              "      const buttonEl =\n",
              "        document.querySelector('#df-a76bf0b2-e29d-4c3a-85d8-a218ee232b76 button.colab-df-convert');\n",
              "      buttonEl.style.display =\n",
              "        google.colab.kernel.accessAllowed ? 'block' : 'none';\n",
              "\n",
              "      async function convertToInteractive(key) {\n",
              "        const element = document.querySelector('#df-a76bf0b2-e29d-4c3a-85d8-a218ee232b76');\n",
              "        const dataTable =\n",
              "          await google.colab.kernel.invokeFunction('convertToInteractive',\n",
              "                                                    [key], {});\n",
              "        if (!dataTable) return;\n",
              "\n",
              "        const docLinkHtml = 'Like what you see? Visit the ' +\n",
              "          '<a target=\"_blank\" href=https://colab.research.google.com/notebooks/data_table.ipynb>data table notebook</a>'\n",
              "          + ' to learn more about interactive tables.';\n",
              "        element.innerHTML = '';\n",
              "        dataTable['output_type'] = 'display_data';\n",
              "        await google.colab.output.renderOutput(dataTable, element);\n",
              "        const docLink = document.createElement('div');\n",
              "        docLink.innerHTML = docLinkHtml;\n",
              "        element.appendChild(docLink);\n",
              "      }\n",
              "    </script>\n",
              "  </div>\n",
              "\n",
              "\n",
              "<div id=\"df-9c9b9e46-9956-4567-91b3-50de2b3eb7e9\">\n",
              "  <button class=\"colab-df-quickchart\" onclick=\"quickchart('df-9c9b9e46-9956-4567-91b3-50de2b3eb7e9')\"\n",
              "            title=\"Suggest charts\"\n",
              "            style=\"display:none;\">\n",
              "\n",
              "<svg xmlns=\"http://www.w3.org/2000/svg\" height=\"24px\"viewBox=\"0 0 24 24\"\n",
              "     width=\"24px\">\n",
              "    <g>\n",
              "        <path d=\"M19 3H5c-1.1 0-2 .9-2 2v14c0 1.1.9 2 2 2h14c1.1 0 2-.9 2-2V5c0-1.1-.9-2-2-2zM9 17H7v-7h2v7zm4 0h-2V7h2v10zm4 0h-2v-4h2v4z\"/>\n",
              "    </g>\n",
              "</svg>\n",
              "  </button>\n",
              "\n",
              "<style>\n",
              "  .colab-df-quickchart {\n",
              "      --bg-color: #E8F0FE;\n",
              "      --fill-color: #1967D2;\n",
              "      --hover-bg-color: #E2EBFA;\n",
              "      --hover-fill-color: #174EA6;\n",
              "      --disabled-fill-color: #AAA;\n",
              "      --disabled-bg-color: #DDD;\n",
              "  }\n",
              "\n",
              "  [theme=dark] .colab-df-quickchart {\n",
              "      --bg-color: #3B4455;\n",
              "      --fill-color: #D2E3FC;\n",
              "      --hover-bg-color: #434B5C;\n",
              "      --hover-fill-color: #FFFFFF;\n",
              "      --disabled-bg-color: #3B4455;\n",
              "      --disabled-fill-color: #666;\n",
              "  }\n",
              "\n",
              "  .colab-df-quickchart {\n",
              "    background-color: var(--bg-color);\n",
              "    border: none;\n",
              "    border-radius: 50%;\n",
              "    cursor: pointer;\n",
              "    display: none;\n",
              "    fill: var(--fill-color);\n",
              "    height: 32px;\n",
              "    padding: 0;\n",
              "    width: 32px;\n",
              "  }\n",
              "\n",
              "  .colab-df-quickchart:hover {\n",
              "    background-color: var(--hover-bg-color);\n",
              "    box-shadow: 0 1px 2px rgba(60, 64, 67, 0.3), 0 1px 3px 1px rgba(60, 64, 67, 0.15);\n",
              "    fill: var(--button-hover-fill-color);\n",
              "  }\n",
              "\n",
              "  .colab-df-quickchart-complete:disabled,\n",
              "  .colab-df-quickchart-complete:disabled:hover {\n",
              "    background-color: var(--disabled-bg-color);\n",
              "    fill: var(--disabled-fill-color);\n",
              "    box-shadow: none;\n",
              "  }\n",
              "\n",
              "  .colab-df-spinner {\n",
              "    border: 2px solid var(--fill-color);\n",
              "    border-color: transparent;\n",
              "    border-bottom-color: var(--fill-color);\n",
              "    animation:\n",
              "      spin 1s steps(1) infinite;\n",
              "  }\n",
              "\n",
              "  @keyframes spin {\n",
              "    0% {\n",
              "      border-color: transparent;\n",
              "      border-bottom-color: var(--fill-color);\n",
              "      border-left-color: var(--fill-color);\n",
              "    }\n",
              "    20% {\n",
              "      border-color: transparent;\n",
              "      border-left-color: var(--fill-color);\n",
              "      border-top-color: var(--fill-color);\n",
              "    }\n",
              "    30% {\n",
              "      border-color: transparent;\n",
              "      border-left-color: var(--fill-color);\n",
              "      border-top-color: var(--fill-color);\n",
              "      border-right-color: var(--fill-color);\n",
              "    }\n",
              "    40% {\n",
              "      border-color: transparent;\n",
              "      border-right-color: var(--fill-color);\n",
              "      border-top-color: var(--fill-color);\n",
              "    }\n",
              "    60% {\n",
              "      border-color: transparent;\n",
              "      border-right-color: var(--fill-color);\n",
              "    }\n",
              "    80% {\n",
              "      border-color: transparent;\n",
              "      border-right-color: var(--fill-color);\n",
              "      border-bottom-color: var(--fill-color);\n",
              "    }\n",
              "    90% {\n",
              "      border-color: transparent;\n",
              "      border-bottom-color: var(--fill-color);\n",
              "    }\n",
              "  }\n",
              "</style>\n",
              "\n",
              "  <script>\n",
              "    async function quickchart(key) {\n",
              "      const quickchartButtonEl =\n",
              "        document.querySelector('#' + key + ' button');\n",
              "      quickchartButtonEl.disabled = true;  // To prevent multiple clicks.\n",
              "      quickchartButtonEl.classList.add('colab-df-spinner');\n",
              "      try {\n",
              "        const charts = await google.colab.kernel.invokeFunction(\n",
              "            'suggestCharts', [key], {});\n",
              "      } catch (error) {\n",
              "        console.error('Error during call to suggestCharts:', error);\n",
              "      }\n",
              "      quickchartButtonEl.classList.remove('colab-df-spinner');\n",
              "      quickchartButtonEl.classList.add('colab-df-quickchart-complete');\n",
              "    }\n",
              "    (() => {\n",
              "      let quickchartButtonEl =\n",
              "        document.querySelector('#df-9c9b9e46-9956-4567-91b3-50de2b3eb7e9 button');\n",
              "      quickchartButtonEl.style.display =\n",
              "        google.colab.kernel.accessAllowed ? 'block' : 'none';\n",
              "    })();\n",
              "  </script>\n",
              "</div>\n",
              "    </div>\n",
              "  </div>\n"
            ],
            "application/vnd.google.colaboratory.intrinsic+json": {
              "type": "dataframe",
              "variable_name": "data_auth"
            }
          },
          "metadata": {},
          "execution_count": 10
        }
      ],
      "source": [
        "data_auth.head()"
      ]
    },
    {
      "cell_type": "markdown",
      "metadata": {
        "id": "gykwJ7bOE34p"
      },
      "source": [
        "По обоим наборам данных видно, что время регистрации и время аутентификации указано в формате timestamp, поэтому перевожу\n",
        "данные в столбцах reg_ts и auth_ts в формат datetime"
      ]
    },
    {
      "cell_type": "code",
      "execution_count": 11,
      "metadata": {
        "id": "nn-zlUObE34q"
      },
      "outputs": [],
      "source": [
        "data_reg['reg_ts'] = pd.to_datetime(data_reg['reg_ts'], unit='s')"
      ]
    },
    {
      "cell_type": "code",
      "execution_count": 12,
      "metadata": {
        "id": "2Mjd7JljE34q"
      },
      "outputs": [],
      "source": [
        "data_auth['auth_ts'] = pd.to_datetime(data_auth['auth_ts'], unit='s')"
      ]
    },
    {
      "cell_type": "code",
      "execution_count": 13,
      "metadata": {
        "id": "hXJGbZb4E34q",
        "outputId": "c3d5dff3-334f-41cb-a023-d943509ab919",
        "colab": {
          "base_uri": "https://localhost:8080/",
          "height": 303
        }
      },
      "outputs": [
        {
          "output_type": "execute_result",
          "data": {
            "text/plain": [
              "count                          1000000\n",
              "mean     2019-01-24 12:12:34.523666688\n",
              "min                1998-11-18 09:43:43\n",
              "25%         2018-06-03 13:55:11.500000\n",
              "50%                2019-07-30 02:35:25\n",
              "75%         2020-04-01 16:28:40.500000\n",
              "max                2020-09-23 15:17:24\n",
              "Name: reg_ts, dtype: object"
            ],
            "text/html": [
              "<div>\n",
              "<style scoped>\n",
              "    .dataframe tbody tr th:only-of-type {\n",
              "        vertical-align: middle;\n",
              "    }\n",
              "\n",
              "    .dataframe tbody tr th {\n",
              "        vertical-align: top;\n",
              "    }\n",
              "\n",
              "    .dataframe thead th {\n",
              "        text-align: right;\n",
              "    }\n",
              "</style>\n",
              "<table border=\"1\" class=\"dataframe\">\n",
              "  <thead>\n",
              "    <tr style=\"text-align: right;\">\n",
              "      <th></th>\n",
              "      <th>reg_ts</th>\n",
              "    </tr>\n",
              "  </thead>\n",
              "  <tbody>\n",
              "    <tr>\n",
              "      <th>count</th>\n",
              "      <td>1000000</td>\n",
              "    </tr>\n",
              "    <tr>\n",
              "      <th>mean</th>\n",
              "      <td>2019-01-24 12:12:34.523666688</td>\n",
              "    </tr>\n",
              "    <tr>\n",
              "      <th>min</th>\n",
              "      <td>1998-11-18 09:43:43</td>\n",
              "    </tr>\n",
              "    <tr>\n",
              "      <th>25%</th>\n",
              "      <td>2018-06-03 13:55:11.500000</td>\n",
              "    </tr>\n",
              "    <tr>\n",
              "      <th>50%</th>\n",
              "      <td>2019-07-30 02:35:25</td>\n",
              "    </tr>\n",
              "    <tr>\n",
              "      <th>75%</th>\n",
              "      <td>2020-04-01 16:28:40.500000</td>\n",
              "    </tr>\n",
              "    <tr>\n",
              "      <th>max</th>\n",
              "      <td>2020-09-23 15:17:24</td>\n",
              "    </tr>\n",
              "  </tbody>\n",
              "</table>\n",
              "</div><br><label><b>dtype:</b> object</label>"
            ]
          },
          "metadata": {},
          "execution_count": 13
        }
      ],
      "source": [
        "# Использую функцию describe, чтобы оценить первую и последние даты в наборе данных\n",
        "data_reg.reg_ts.describe()"
      ]
    },
    {
      "cell_type": "code",
      "execution_count": 15,
      "metadata": {
        "id": "5scD6iq8E34q",
        "outputId": "0ab5f5bb-4b47-4e48-b28d-1bfaaa5f8b96",
        "colab": {
          "base_uri": "https://localhost:8080/",
          "height": 800
        }
      },
      "outputs": [
        {
          "output_type": "execute_result",
          "data": {
            "text/plain": [
              "period_number_day  0.0       1.0       2.0       3.0       4.0       5.0   \\\n",
              "cohort                                                                      \n",
              "2020-09-01          1.0  0.020177  0.040984  0.042245  0.046028  0.064313   \n",
              "2020-09-02          1.0  0.025189  0.039043  0.046599  0.056675  0.062343   \n",
              "2020-09-03          1.0  0.023256  0.054054  0.047140  0.065368  0.069767   \n",
              "2020-09-04          1.0  0.020088  0.036409  0.036409  0.051475  0.064030   \n",
              "2020-09-05          1.0  0.027569  0.039474  0.046366  0.054511  0.058897   \n",
              "2020-09-06          1.0  0.031270  0.043152  0.054409  0.056285  0.058787   \n",
              "2020-09-07          1.0  0.029357  0.042473  0.053716  0.050593  0.063710   \n",
              "2020-09-08          1.0  0.017456  0.039277  0.039277  0.048628  0.076060   \n",
              "2020-09-09          1.0  0.017424  0.032358  0.046671  0.057250  0.066584   \n",
              "2020-09-10          1.0  0.020510  0.042884  0.047856  0.042262  0.067744   \n",
              "2020-09-11          1.0  0.013027  0.040323  0.045285  0.056452  0.057072   \n",
              "2020-09-12          1.0  0.019207  0.038414  0.047088  0.046468  0.060719   \n",
              "2020-09-13          1.0  0.019778  0.040791  0.042645  0.051298  0.065513   \n",
              "2020-09-14          1.0  0.022236  0.038295  0.045090  0.053119  0.064855   \n",
              "2020-09-15          1.0  0.022181  0.040665  0.045595  0.060382  0.056069   \n",
              "2020-09-16          1.0  0.019077  0.042462  0.046154  0.046769  0.067692   \n",
              "2020-09-17          1.0  0.016585  0.042998  0.045455  0.054668  0.062654   \n",
              "2020-09-18          1.0  0.019018  0.045399  0.042331  0.052147       NaN   \n",
              "2020-09-19          1.0  0.018360  0.035496  0.047124       NaN       NaN   \n",
              "2020-09-20          1.0  0.024450  0.043399       NaN       NaN       NaN   \n",
              "2020-09-21          1.0  0.018926       NaN       NaN       NaN       NaN   \n",
              "2020-09-22          1.0       NaN       NaN       NaN       NaN       NaN   \n",
              "\n",
              "period_number_day      6.0       7.0       8.0       9.0   ...      12.0  \\\n",
              "cohort                                                     ...             \n",
              "2020-09-01         0.056116  0.064313  0.040984  0.054224  ...  0.048550   \n",
              "2020-09-02         0.071159  0.062972  0.048489  0.040932  ...  0.054786   \n",
              "2020-09-03         0.085481  0.063482  0.054683  0.062854  ...  0.058454   \n",
              "2020-09-04         0.072819  0.049592  0.053358  0.043315  ...  0.043315   \n",
              "2020-09-05         0.074561  0.048872  0.050752  0.054511  ...  0.045739   \n",
              "2020-09-06         0.068168  0.060663  0.058161  0.055034  ...  0.053784   \n",
              "2020-09-07         0.073079  0.052467  0.041224  0.056215  ...  0.045597   \n",
              "2020-09-08         0.075436  0.066085  0.051746  0.051746  ...  0.059227   \n",
              "2020-09-09         0.057250  0.059116  0.043559  0.050404  ...  0.047915   \n",
              "2020-09-10         0.062772  0.070851  0.048477  0.045370  ...  0.052206   \n",
              "2020-09-11         0.066998  0.063275  0.044045  0.046526  ...       NaN   \n",
              "2020-09-12         0.065675  0.057621  0.052664  0.051425  ...       NaN   \n",
              "2020-09-13         0.064895  0.049444  0.046972  0.049444  ...       NaN   \n",
              "2020-09-14         0.069796  0.063002  0.044472       NaN  ...       NaN   \n",
              "2020-09-15         0.069008  0.056685       NaN       NaN  ...       NaN   \n",
              "2020-09-16         0.069538       NaN       NaN       NaN  ...       NaN   \n",
              "2020-09-17              NaN       NaN       NaN       NaN  ...       NaN   \n",
              "2020-09-18              NaN       NaN       NaN       NaN  ...       NaN   \n",
              "2020-09-19              NaN       NaN       NaN       NaN  ...       NaN   \n",
              "2020-09-20              NaN       NaN       NaN       NaN  ...       NaN   \n",
              "2020-09-21              NaN       NaN       NaN       NaN  ...       NaN   \n",
              "2020-09-22              NaN       NaN       NaN       NaN  ...       NaN   \n",
              "\n",
              "period_number_day      13.0      14.0      15.0      16.0      17.0      18.0  \\\n",
              "cohort                                                                          \n",
              "2020-09-01         0.054855  0.042875  0.044136  0.043506  0.050441  0.041614   \n",
              "2020-09-02         0.043451  0.049748  0.052897  0.041562  0.048489  0.039043   \n",
              "2020-09-03         0.059711  0.054683  0.053426  0.043997  0.048397  0.046512   \n",
              "2020-09-04         0.055869  0.043942  0.045198  0.045198  0.042687  0.047709   \n",
              "2020-09-05         0.053885  0.045113  0.051378  0.044486  0.047619       NaN   \n",
              "2020-09-06         0.051907  0.055034  0.045654  0.048155       NaN       NaN   \n",
              "2020-09-07         0.050593  0.042473  0.050593       NaN       NaN       NaN   \n",
              "2020-09-08         0.051746  0.047382       NaN       NaN       NaN       NaN   \n",
              "2020-09-09         0.048538       NaN       NaN       NaN       NaN       NaN   \n",
              "2020-09-10              NaN       NaN       NaN       NaN       NaN       NaN   \n",
              "2020-09-11              NaN       NaN       NaN       NaN       NaN       NaN   \n",
              "2020-09-12              NaN       NaN       NaN       NaN       NaN       NaN   \n",
              "2020-09-13              NaN       NaN       NaN       NaN       NaN       NaN   \n",
              "2020-09-14              NaN       NaN       NaN       NaN       NaN       NaN   \n",
              "2020-09-15              NaN       NaN       NaN       NaN       NaN       NaN   \n",
              "2020-09-16              NaN       NaN       NaN       NaN       NaN       NaN   \n",
              "2020-09-17              NaN       NaN       NaN       NaN       NaN       NaN   \n",
              "2020-09-18              NaN       NaN       NaN       NaN       NaN       NaN   \n",
              "2020-09-19              NaN       NaN       NaN       NaN       NaN       NaN   \n",
              "2020-09-20              NaN       NaN       NaN       NaN       NaN       NaN   \n",
              "2020-09-21              NaN       NaN       NaN       NaN       NaN       NaN   \n",
              "2020-09-22              NaN       NaN       NaN       NaN       NaN       NaN   \n",
              "\n",
              "period_number_day      19.0      20.0      21.0  \n",
              "cohort                                           \n",
              "2020-09-01         0.043506  0.035939  0.043506  \n",
              "2020-09-02         0.037154  0.046599       NaN  \n",
              "2020-09-03         0.054683       NaN       NaN  \n",
              "2020-09-04              NaN       NaN       NaN  \n",
              "2020-09-05              NaN       NaN       NaN  \n",
              "2020-09-06              NaN       NaN       NaN  \n",
              "2020-09-07              NaN       NaN       NaN  \n",
              "2020-09-08              NaN       NaN       NaN  \n",
              "2020-09-09              NaN       NaN       NaN  \n",
              "2020-09-10              NaN       NaN       NaN  \n",
              "2020-09-11              NaN       NaN       NaN  \n",
              "2020-09-12              NaN       NaN       NaN  \n",
              "2020-09-13              NaN       NaN       NaN  \n",
              "2020-09-14              NaN       NaN       NaN  \n",
              "2020-09-15              NaN       NaN       NaN  \n",
              "2020-09-16              NaN       NaN       NaN  \n",
              "2020-09-17              NaN       NaN       NaN  \n",
              "2020-09-18              NaN       NaN       NaN  \n",
              "2020-09-19              NaN       NaN       NaN  \n",
              "2020-09-20              NaN       NaN       NaN  \n",
              "2020-09-21              NaN       NaN       NaN  \n",
              "2020-09-22              NaN       NaN       NaN  \n",
              "\n",
              "[22 rows x 22 columns]"
            ],
            "text/html": [
              "\n",
              "  <div id=\"df-f85d345d-c5c9-4850-8f27-0e6cadd30c11\" class=\"colab-df-container\">\n",
              "    <div>\n",
              "<style scoped>\n",
              "    .dataframe tbody tr th:only-of-type {\n",
              "        vertical-align: middle;\n",
              "    }\n",
              "\n",
              "    .dataframe tbody tr th {\n",
              "        vertical-align: top;\n",
              "    }\n",
              "\n",
              "    .dataframe thead th {\n",
              "        text-align: right;\n",
              "    }\n",
              "</style>\n",
              "<table border=\"1\" class=\"dataframe\">\n",
              "  <thead>\n",
              "    <tr style=\"text-align: right;\">\n",
              "      <th>period_number_day</th>\n",
              "      <th>0.0</th>\n",
              "      <th>1.0</th>\n",
              "      <th>2.0</th>\n",
              "      <th>3.0</th>\n",
              "      <th>4.0</th>\n",
              "      <th>5.0</th>\n",
              "      <th>6.0</th>\n",
              "      <th>7.0</th>\n",
              "      <th>8.0</th>\n",
              "      <th>9.0</th>\n",
              "      <th>...</th>\n",
              "      <th>12.0</th>\n",
              "      <th>13.0</th>\n",
              "      <th>14.0</th>\n",
              "      <th>15.0</th>\n",
              "      <th>16.0</th>\n",
              "      <th>17.0</th>\n",
              "      <th>18.0</th>\n",
              "      <th>19.0</th>\n",
              "      <th>20.0</th>\n",
              "      <th>21.0</th>\n",
              "    </tr>\n",
              "    <tr>\n",
              "      <th>cohort</th>\n",
              "      <th></th>\n",
              "      <th></th>\n",
              "      <th></th>\n",
              "      <th></th>\n",
              "      <th></th>\n",
              "      <th></th>\n",
              "      <th></th>\n",
              "      <th></th>\n",
              "      <th></th>\n",
              "      <th></th>\n",
              "      <th></th>\n",
              "      <th></th>\n",
              "      <th></th>\n",
              "      <th></th>\n",
              "      <th></th>\n",
              "      <th></th>\n",
              "      <th></th>\n",
              "      <th></th>\n",
              "      <th></th>\n",
              "      <th></th>\n",
              "      <th></th>\n",
              "    </tr>\n",
              "  </thead>\n",
              "  <tbody>\n",
              "    <tr>\n",
              "      <th>2020-09-01</th>\n",
              "      <td>1.0</td>\n",
              "      <td>0.020177</td>\n",
              "      <td>0.040984</td>\n",
              "      <td>0.042245</td>\n",
              "      <td>0.046028</td>\n",
              "      <td>0.064313</td>\n",
              "      <td>0.056116</td>\n",
              "      <td>0.064313</td>\n",
              "      <td>0.040984</td>\n",
              "      <td>0.054224</td>\n",
              "      <td>...</td>\n",
              "      <td>0.048550</td>\n",
              "      <td>0.054855</td>\n",
              "      <td>0.042875</td>\n",
              "      <td>0.044136</td>\n",
              "      <td>0.043506</td>\n",
              "      <td>0.050441</td>\n",
              "      <td>0.041614</td>\n",
              "      <td>0.043506</td>\n",
              "      <td>0.035939</td>\n",
              "      <td>0.043506</td>\n",
              "    </tr>\n",
              "    <tr>\n",
              "      <th>2020-09-02</th>\n",
              "      <td>1.0</td>\n",
              "      <td>0.025189</td>\n",
              "      <td>0.039043</td>\n",
              "      <td>0.046599</td>\n",
              "      <td>0.056675</td>\n",
              "      <td>0.062343</td>\n",
              "      <td>0.071159</td>\n",
              "      <td>0.062972</td>\n",
              "      <td>0.048489</td>\n",
              "      <td>0.040932</td>\n",
              "      <td>...</td>\n",
              "      <td>0.054786</td>\n",
              "      <td>0.043451</td>\n",
              "      <td>0.049748</td>\n",
              "      <td>0.052897</td>\n",
              "      <td>0.041562</td>\n",
              "      <td>0.048489</td>\n",
              "      <td>0.039043</td>\n",
              "      <td>0.037154</td>\n",
              "      <td>0.046599</td>\n",
              "      <td>NaN</td>\n",
              "    </tr>\n",
              "    <tr>\n",
              "      <th>2020-09-03</th>\n",
              "      <td>1.0</td>\n",
              "      <td>0.023256</td>\n",
              "      <td>0.054054</td>\n",
              "      <td>0.047140</td>\n",
              "      <td>0.065368</td>\n",
              "      <td>0.069767</td>\n",
              "      <td>0.085481</td>\n",
              "      <td>0.063482</td>\n",
              "      <td>0.054683</td>\n",
              "      <td>0.062854</td>\n",
              "      <td>...</td>\n",
              "      <td>0.058454</td>\n",
              "      <td>0.059711</td>\n",
              "      <td>0.054683</td>\n",
              "      <td>0.053426</td>\n",
              "      <td>0.043997</td>\n",
              "      <td>0.048397</td>\n",
              "      <td>0.046512</td>\n",
              "      <td>0.054683</td>\n",
              "      <td>NaN</td>\n",
              "      <td>NaN</td>\n",
              "    </tr>\n",
              "    <tr>\n",
              "      <th>2020-09-04</th>\n",
              "      <td>1.0</td>\n",
              "      <td>0.020088</td>\n",
              "      <td>0.036409</td>\n",
              "      <td>0.036409</td>\n",
              "      <td>0.051475</td>\n",
              "      <td>0.064030</td>\n",
              "      <td>0.072819</td>\n",
              "      <td>0.049592</td>\n",
              "      <td>0.053358</td>\n",
              "      <td>0.043315</td>\n",
              "      <td>...</td>\n",
              "      <td>0.043315</td>\n",
              "      <td>0.055869</td>\n",
              "      <td>0.043942</td>\n",
              "      <td>0.045198</td>\n",
              "      <td>0.045198</td>\n",
              "      <td>0.042687</td>\n",
              "      <td>0.047709</td>\n",
              "      <td>NaN</td>\n",
              "      <td>NaN</td>\n",
              "      <td>NaN</td>\n",
              "    </tr>\n",
              "    <tr>\n",
              "      <th>2020-09-05</th>\n",
              "      <td>1.0</td>\n",
              "      <td>0.027569</td>\n",
              "      <td>0.039474</td>\n",
              "      <td>0.046366</td>\n",
              "      <td>0.054511</td>\n",
              "      <td>0.058897</td>\n",
              "      <td>0.074561</td>\n",
              "      <td>0.048872</td>\n",
              "      <td>0.050752</td>\n",
              "      <td>0.054511</td>\n",
              "      <td>...</td>\n",
              "      <td>0.045739</td>\n",
              "      <td>0.053885</td>\n",
              "      <td>0.045113</td>\n",
              "      <td>0.051378</td>\n",
              "      <td>0.044486</td>\n",
              "      <td>0.047619</td>\n",
              "      <td>NaN</td>\n",
              "      <td>NaN</td>\n",
              "      <td>NaN</td>\n",
              "      <td>NaN</td>\n",
              "    </tr>\n",
              "    <tr>\n",
              "      <th>2020-09-06</th>\n",
              "      <td>1.0</td>\n",
              "      <td>0.031270</td>\n",
              "      <td>0.043152</td>\n",
              "      <td>0.054409</td>\n",
              "      <td>0.056285</td>\n",
              "      <td>0.058787</td>\n",
              "      <td>0.068168</td>\n",
              "      <td>0.060663</td>\n",
              "      <td>0.058161</td>\n",
              "      <td>0.055034</td>\n",
              "      <td>...</td>\n",
              "      <td>0.053784</td>\n",
              "      <td>0.051907</td>\n",
              "      <td>0.055034</td>\n",
              "      <td>0.045654</td>\n",
              "      <td>0.048155</td>\n",
              "      <td>NaN</td>\n",
              "      <td>NaN</td>\n",
              "      <td>NaN</td>\n",
              "      <td>NaN</td>\n",
              "      <td>NaN</td>\n",
              "    </tr>\n",
              "    <tr>\n",
              "      <th>2020-09-07</th>\n",
              "      <td>1.0</td>\n",
              "      <td>0.029357</td>\n",
              "      <td>0.042473</td>\n",
              "      <td>0.053716</td>\n",
              "      <td>0.050593</td>\n",
              "      <td>0.063710</td>\n",
              "      <td>0.073079</td>\n",
              "      <td>0.052467</td>\n",
              "      <td>0.041224</td>\n",
              "      <td>0.056215</td>\n",
              "      <td>...</td>\n",
              "      <td>0.045597</td>\n",
              "      <td>0.050593</td>\n",
              "      <td>0.042473</td>\n",
              "      <td>0.050593</td>\n",
              "      <td>NaN</td>\n",
              "      <td>NaN</td>\n",
              "      <td>NaN</td>\n",
              "      <td>NaN</td>\n",
              "      <td>NaN</td>\n",
              "      <td>NaN</td>\n",
              "    </tr>\n",
              "    <tr>\n",
              "      <th>2020-09-08</th>\n",
              "      <td>1.0</td>\n",
              "      <td>0.017456</td>\n",
              "      <td>0.039277</td>\n",
              "      <td>0.039277</td>\n",
              "      <td>0.048628</td>\n",
              "      <td>0.076060</td>\n",
              "      <td>0.075436</td>\n",
              "      <td>0.066085</td>\n",
              "      <td>0.051746</td>\n",
              "      <td>0.051746</td>\n",
              "      <td>...</td>\n",
              "      <td>0.059227</td>\n",
              "      <td>0.051746</td>\n",
              "      <td>0.047382</td>\n",
              "      <td>NaN</td>\n",
              "      <td>NaN</td>\n",
              "      <td>NaN</td>\n",
              "      <td>NaN</td>\n",
              "      <td>NaN</td>\n",
              "      <td>NaN</td>\n",
              "      <td>NaN</td>\n",
              "    </tr>\n",
              "    <tr>\n",
              "      <th>2020-09-09</th>\n",
              "      <td>1.0</td>\n",
              "      <td>0.017424</td>\n",
              "      <td>0.032358</td>\n",
              "      <td>0.046671</td>\n",
              "      <td>0.057250</td>\n",
              "      <td>0.066584</td>\n",
              "      <td>0.057250</td>\n",
              "      <td>0.059116</td>\n",
              "      <td>0.043559</td>\n",
              "      <td>0.050404</td>\n",
              "      <td>...</td>\n",
              "      <td>0.047915</td>\n",
              "      <td>0.048538</td>\n",
              "      <td>NaN</td>\n",
              "      <td>NaN</td>\n",
              "      <td>NaN</td>\n",
              "      <td>NaN</td>\n",
              "      <td>NaN</td>\n",
              "      <td>NaN</td>\n",
              "      <td>NaN</td>\n",
              "      <td>NaN</td>\n",
              "    </tr>\n",
              "    <tr>\n",
              "      <th>2020-09-10</th>\n",
              "      <td>1.0</td>\n",
              "      <td>0.020510</td>\n",
              "      <td>0.042884</td>\n",
              "      <td>0.047856</td>\n",
              "      <td>0.042262</td>\n",
              "      <td>0.067744</td>\n",
              "      <td>0.062772</td>\n",
              "      <td>0.070851</td>\n",
              "      <td>0.048477</td>\n",
              "      <td>0.045370</td>\n",
              "      <td>...</td>\n",
              "      <td>0.052206</td>\n",
              "      <td>NaN</td>\n",
              "      <td>NaN</td>\n",
              "      <td>NaN</td>\n",
              "      <td>NaN</td>\n",
              "      <td>NaN</td>\n",
              "      <td>NaN</td>\n",
              "      <td>NaN</td>\n",
              "      <td>NaN</td>\n",
              "      <td>NaN</td>\n",
              "    </tr>\n",
              "    <tr>\n",
              "      <th>2020-09-11</th>\n",
              "      <td>1.0</td>\n",
              "      <td>0.013027</td>\n",
              "      <td>0.040323</td>\n",
              "      <td>0.045285</td>\n",
              "      <td>0.056452</td>\n",
              "      <td>0.057072</td>\n",
              "      <td>0.066998</td>\n",
              "      <td>0.063275</td>\n",
              "      <td>0.044045</td>\n",
              "      <td>0.046526</td>\n",
              "      <td>...</td>\n",
              "      <td>NaN</td>\n",
              "      <td>NaN</td>\n",
              "      <td>NaN</td>\n",
              "      <td>NaN</td>\n",
              "      <td>NaN</td>\n",
              "      <td>NaN</td>\n",
              "      <td>NaN</td>\n",
              "      <td>NaN</td>\n",
              "      <td>NaN</td>\n",
              "      <td>NaN</td>\n",
              "    </tr>\n",
              "    <tr>\n",
              "      <th>2020-09-12</th>\n",
              "      <td>1.0</td>\n",
              "      <td>0.019207</td>\n",
              "      <td>0.038414</td>\n",
              "      <td>0.047088</td>\n",
              "      <td>0.046468</td>\n",
              "      <td>0.060719</td>\n",
              "      <td>0.065675</td>\n",
              "      <td>0.057621</td>\n",
              "      <td>0.052664</td>\n",
              "      <td>0.051425</td>\n",
              "      <td>...</td>\n",
              "      <td>NaN</td>\n",
              "      <td>NaN</td>\n",
              "      <td>NaN</td>\n",
              "      <td>NaN</td>\n",
              "      <td>NaN</td>\n",
              "      <td>NaN</td>\n",
              "      <td>NaN</td>\n",
              "      <td>NaN</td>\n",
              "      <td>NaN</td>\n",
              "      <td>NaN</td>\n",
              "    </tr>\n",
              "    <tr>\n",
              "      <th>2020-09-13</th>\n",
              "      <td>1.0</td>\n",
              "      <td>0.019778</td>\n",
              "      <td>0.040791</td>\n",
              "      <td>0.042645</td>\n",
              "      <td>0.051298</td>\n",
              "      <td>0.065513</td>\n",
              "      <td>0.064895</td>\n",
              "      <td>0.049444</td>\n",
              "      <td>0.046972</td>\n",
              "      <td>0.049444</td>\n",
              "      <td>...</td>\n",
              "      <td>NaN</td>\n",
              "      <td>NaN</td>\n",
              "      <td>NaN</td>\n",
              "      <td>NaN</td>\n",
              "      <td>NaN</td>\n",
              "      <td>NaN</td>\n",
              "      <td>NaN</td>\n",
              "      <td>NaN</td>\n",
              "      <td>NaN</td>\n",
              "      <td>NaN</td>\n",
              "    </tr>\n",
              "    <tr>\n",
              "      <th>2020-09-14</th>\n",
              "      <td>1.0</td>\n",
              "      <td>0.022236</td>\n",
              "      <td>0.038295</td>\n",
              "      <td>0.045090</td>\n",
              "      <td>0.053119</td>\n",
              "      <td>0.064855</td>\n",
              "      <td>0.069796</td>\n",
              "      <td>0.063002</td>\n",
              "      <td>0.044472</td>\n",
              "      <td>NaN</td>\n",
              "      <td>...</td>\n",
              "      <td>NaN</td>\n",
              "      <td>NaN</td>\n",
              "      <td>NaN</td>\n",
              "      <td>NaN</td>\n",
              "      <td>NaN</td>\n",
              "      <td>NaN</td>\n",
              "      <td>NaN</td>\n",
              "      <td>NaN</td>\n",
              "      <td>NaN</td>\n",
              "      <td>NaN</td>\n",
              "    </tr>\n",
              "    <tr>\n",
              "      <th>2020-09-15</th>\n",
              "      <td>1.0</td>\n",
              "      <td>0.022181</td>\n",
              "      <td>0.040665</td>\n",
              "      <td>0.045595</td>\n",
              "      <td>0.060382</td>\n",
              "      <td>0.056069</td>\n",
              "      <td>0.069008</td>\n",
              "      <td>0.056685</td>\n",
              "      <td>NaN</td>\n",
              "      <td>NaN</td>\n",
              "      <td>...</td>\n",
              "      <td>NaN</td>\n",
              "      <td>NaN</td>\n",
              "      <td>NaN</td>\n",
              "      <td>NaN</td>\n",
              "      <td>NaN</td>\n",
              "      <td>NaN</td>\n",
              "      <td>NaN</td>\n",
              "      <td>NaN</td>\n",
              "      <td>NaN</td>\n",
              "      <td>NaN</td>\n",
              "    </tr>\n",
              "    <tr>\n",
              "      <th>2020-09-16</th>\n",
              "      <td>1.0</td>\n",
              "      <td>0.019077</td>\n",
              "      <td>0.042462</td>\n",
              "      <td>0.046154</td>\n",
              "      <td>0.046769</td>\n",
              "      <td>0.067692</td>\n",
              "      <td>0.069538</td>\n",
              "      <td>NaN</td>\n",
              "      <td>NaN</td>\n",
              "      <td>NaN</td>\n",
              "      <td>...</td>\n",
              "      <td>NaN</td>\n",
              "      <td>NaN</td>\n",
              "      <td>NaN</td>\n",
              "      <td>NaN</td>\n",
              "      <td>NaN</td>\n",
              "      <td>NaN</td>\n",
              "      <td>NaN</td>\n",
              "      <td>NaN</td>\n",
              "      <td>NaN</td>\n",
              "      <td>NaN</td>\n",
              "    </tr>\n",
              "    <tr>\n",
              "      <th>2020-09-17</th>\n",
              "      <td>1.0</td>\n",
              "      <td>0.016585</td>\n",
              "      <td>0.042998</td>\n",
              "      <td>0.045455</td>\n",
              "      <td>0.054668</td>\n",
              "      <td>0.062654</td>\n",
              "      <td>NaN</td>\n",
              "      <td>NaN</td>\n",
              "      <td>NaN</td>\n",
              "      <td>NaN</td>\n",
              "      <td>...</td>\n",
              "      <td>NaN</td>\n",
              "      <td>NaN</td>\n",
              "      <td>NaN</td>\n",
              "      <td>NaN</td>\n",
              "      <td>NaN</td>\n",
              "      <td>NaN</td>\n",
              "      <td>NaN</td>\n",
              "      <td>NaN</td>\n",
              "      <td>NaN</td>\n",
              "      <td>NaN</td>\n",
              "    </tr>\n",
              "    <tr>\n",
              "      <th>2020-09-18</th>\n",
              "      <td>1.0</td>\n",
              "      <td>0.019018</td>\n",
              "      <td>0.045399</td>\n",
              "      <td>0.042331</td>\n",
              "      <td>0.052147</td>\n",
              "      <td>NaN</td>\n",
              "      <td>NaN</td>\n",
              "      <td>NaN</td>\n",
              "      <td>NaN</td>\n",
              "      <td>NaN</td>\n",
              "      <td>...</td>\n",
              "      <td>NaN</td>\n",
              "      <td>NaN</td>\n",
              "      <td>NaN</td>\n",
              "      <td>NaN</td>\n",
              "      <td>NaN</td>\n",
              "      <td>NaN</td>\n",
              "      <td>NaN</td>\n",
              "      <td>NaN</td>\n",
              "      <td>NaN</td>\n",
              "      <td>NaN</td>\n",
              "    </tr>\n",
              "    <tr>\n",
              "      <th>2020-09-19</th>\n",
              "      <td>1.0</td>\n",
              "      <td>0.018360</td>\n",
              "      <td>0.035496</td>\n",
              "      <td>0.047124</td>\n",
              "      <td>NaN</td>\n",
              "      <td>NaN</td>\n",
              "      <td>NaN</td>\n",
              "      <td>NaN</td>\n",
              "      <td>NaN</td>\n",
              "      <td>NaN</td>\n",
              "      <td>...</td>\n",
              "      <td>NaN</td>\n",
              "      <td>NaN</td>\n",
              "      <td>NaN</td>\n",
              "      <td>NaN</td>\n",
              "      <td>NaN</td>\n",
              "      <td>NaN</td>\n",
              "      <td>NaN</td>\n",
              "      <td>NaN</td>\n",
              "      <td>NaN</td>\n",
              "      <td>NaN</td>\n",
              "    </tr>\n",
              "    <tr>\n",
              "      <th>2020-09-20</th>\n",
              "      <td>1.0</td>\n",
              "      <td>0.024450</td>\n",
              "      <td>0.043399</td>\n",
              "      <td>NaN</td>\n",
              "      <td>NaN</td>\n",
              "      <td>NaN</td>\n",
              "      <td>NaN</td>\n",
              "      <td>NaN</td>\n",
              "      <td>NaN</td>\n",
              "      <td>NaN</td>\n",
              "      <td>...</td>\n",
              "      <td>NaN</td>\n",
              "      <td>NaN</td>\n",
              "      <td>NaN</td>\n",
              "      <td>NaN</td>\n",
              "      <td>NaN</td>\n",
              "      <td>NaN</td>\n",
              "      <td>NaN</td>\n",
              "      <td>NaN</td>\n",
              "      <td>NaN</td>\n",
              "      <td>NaN</td>\n",
              "    </tr>\n",
              "    <tr>\n",
              "      <th>2020-09-21</th>\n",
              "      <td>1.0</td>\n",
              "      <td>0.018926</td>\n",
              "      <td>NaN</td>\n",
              "      <td>NaN</td>\n",
              "      <td>NaN</td>\n",
              "      <td>NaN</td>\n",
              "      <td>NaN</td>\n",
              "      <td>NaN</td>\n",
              "      <td>NaN</td>\n",
              "      <td>NaN</td>\n",
              "      <td>...</td>\n",
              "      <td>NaN</td>\n",
              "      <td>NaN</td>\n",
              "      <td>NaN</td>\n",
              "      <td>NaN</td>\n",
              "      <td>NaN</td>\n",
              "      <td>NaN</td>\n",
              "      <td>NaN</td>\n",
              "      <td>NaN</td>\n",
              "      <td>NaN</td>\n",
              "      <td>NaN</td>\n",
              "    </tr>\n",
              "    <tr>\n",
              "      <th>2020-09-22</th>\n",
              "      <td>1.0</td>\n",
              "      <td>NaN</td>\n",
              "      <td>NaN</td>\n",
              "      <td>NaN</td>\n",
              "      <td>NaN</td>\n",
              "      <td>NaN</td>\n",
              "      <td>NaN</td>\n",
              "      <td>NaN</td>\n",
              "      <td>NaN</td>\n",
              "      <td>NaN</td>\n",
              "      <td>...</td>\n",
              "      <td>NaN</td>\n",
              "      <td>NaN</td>\n",
              "      <td>NaN</td>\n",
              "      <td>NaN</td>\n",
              "      <td>NaN</td>\n",
              "      <td>NaN</td>\n",
              "      <td>NaN</td>\n",
              "      <td>NaN</td>\n",
              "      <td>NaN</td>\n",
              "      <td>NaN</td>\n",
              "    </tr>\n",
              "  </tbody>\n",
              "</table>\n",
              "<p>22 rows × 22 columns</p>\n",
              "</div>\n",
              "    <div class=\"colab-df-buttons\">\n",
              "\n",
              "  <div class=\"colab-df-container\">\n",
              "    <button class=\"colab-df-convert\" onclick=\"convertToInteractive('df-f85d345d-c5c9-4850-8f27-0e6cadd30c11')\"\n",
              "            title=\"Convert this dataframe to an interactive table.\"\n",
              "            style=\"display:none;\">\n",
              "\n",
              "  <svg xmlns=\"http://www.w3.org/2000/svg\" height=\"24px\" viewBox=\"0 -960 960 960\">\n",
              "    <path d=\"M120-120v-720h720v720H120Zm60-500h600v-160H180v160Zm220 220h160v-160H400v160Zm0 220h160v-160H400v160ZM180-400h160v-160H180v160Zm440 0h160v-160H620v160ZM180-180h160v-160H180v160Zm440 0h160v-160H620v160Z\"/>\n",
              "  </svg>\n",
              "    </button>\n",
              "\n",
              "  <style>\n",
              "    .colab-df-container {\n",
              "      display:flex;\n",
              "      gap: 12px;\n",
              "    }\n",
              "\n",
              "    .colab-df-convert {\n",
              "      background-color: #E8F0FE;\n",
              "      border: none;\n",
              "      border-radius: 50%;\n",
              "      cursor: pointer;\n",
              "      display: none;\n",
              "      fill: #1967D2;\n",
              "      height: 32px;\n",
              "      padding: 0 0 0 0;\n",
              "      width: 32px;\n",
              "    }\n",
              "\n",
              "    .colab-df-convert:hover {\n",
              "      background-color: #E2EBFA;\n",
              "      box-shadow: 0px 1px 2px rgba(60, 64, 67, 0.3), 0px 1px 3px 1px rgba(60, 64, 67, 0.15);\n",
              "      fill: #174EA6;\n",
              "    }\n",
              "\n",
              "    .colab-df-buttons div {\n",
              "      margin-bottom: 4px;\n",
              "    }\n",
              "\n",
              "    [theme=dark] .colab-df-convert {\n",
              "      background-color: #3B4455;\n",
              "      fill: #D2E3FC;\n",
              "    }\n",
              "\n",
              "    [theme=dark] .colab-df-convert:hover {\n",
              "      background-color: #434B5C;\n",
              "      box-shadow: 0px 1px 3px 1px rgba(0, 0, 0, 0.15);\n",
              "      filter: drop-shadow(0px 1px 2px rgba(0, 0, 0, 0.3));\n",
              "      fill: #FFFFFF;\n",
              "    }\n",
              "  </style>\n",
              "\n",
              "    <script>\n",
              "      const buttonEl =\n",
              "        document.querySelector('#df-f85d345d-c5c9-4850-8f27-0e6cadd30c11 button.colab-df-convert');\n",
              "      buttonEl.style.display =\n",
              "        google.colab.kernel.accessAllowed ? 'block' : 'none';\n",
              "\n",
              "      async function convertToInteractive(key) {\n",
              "        const element = document.querySelector('#df-f85d345d-c5c9-4850-8f27-0e6cadd30c11');\n",
              "        const dataTable =\n",
              "          await google.colab.kernel.invokeFunction('convertToInteractive',\n",
              "                                                    [key], {});\n",
              "        if (!dataTable) return;\n",
              "\n",
              "        const docLinkHtml = 'Like what you see? Visit the ' +\n",
              "          '<a target=\"_blank\" href=https://colab.research.google.com/notebooks/data_table.ipynb>data table notebook</a>'\n",
              "          + ' to learn more about interactive tables.';\n",
              "        element.innerHTML = '';\n",
              "        dataTable['output_type'] = 'display_data';\n",
              "        await google.colab.output.renderOutput(dataTable, element);\n",
              "        const docLink = document.createElement('div');\n",
              "        docLink.innerHTML = docLinkHtml;\n",
              "        element.appendChild(docLink);\n",
              "      }\n",
              "    </script>\n",
              "  </div>\n",
              "\n",
              "\n",
              "<div id=\"df-6f4c3282-b3ea-47ad-a64d-235ccca0b5b5\">\n",
              "  <button class=\"colab-df-quickchart\" onclick=\"quickchart('df-6f4c3282-b3ea-47ad-a64d-235ccca0b5b5')\"\n",
              "            title=\"Suggest charts\"\n",
              "            style=\"display:none;\">\n",
              "\n",
              "<svg xmlns=\"http://www.w3.org/2000/svg\" height=\"24px\"viewBox=\"0 0 24 24\"\n",
              "     width=\"24px\">\n",
              "    <g>\n",
              "        <path d=\"M19 3H5c-1.1 0-2 .9-2 2v14c0 1.1.9 2 2 2h14c1.1 0 2-.9 2-2V5c0-1.1-.9-2-2-2zM9 17H7v-7h2v7zm4 0h-2V7h2v10zm4 0h-2v-4h2v4z\"/>\n",
              "    </g>\n",
              "</svg>\n",
              "  </button>\n",
              "\n",
              "<style>\n",
              "  .colab-df-quickchart {\n",
              "      --bg-color: #E8F0FE;\n",
              "      --fill-color: #1967D2;\n",
              "      --hover-bg-color: #E2EBFA;\n",
              "      --hover-fill-color: #174EA6;\n",
              "      --disabled-fill-color: #AAA;\n",
              "      --disabled-bg-color: #DDD;\n",
              "  }\n",
              "\n",
              "  [theme=dark] .colab-df-quickchart {\n",
              "      --bg-color: #3B4455;\n",
              "      --fill-color: #D2E3FC;\n",
              "      --hover-bg-color: #434B5C;\n",
              "      --hover-fill-color: #FFFFFF;\n",
              "      --disabled-bg-color: #3B4455;\n",
              "      --disabled-fill-color: #666;\n",
              "  }\n",
              "\n",
              "  .colab-df-quickchart {\n",
              "    background-color: var(--bg-color);\n",
              "    border: none;\n",
              "    border-radius: 50%;\n",
              "    cursor: pointer;\n",
              "    display: none;\n",
              "    fill: var(--fill-color);\n",
              "    height: 32px;\n",
              "    padding: 0;\n",
              "    width: 32px;\n",
              "  }\n",
              "\n",
              "  .colab-df-quickchart:hover {\n",
              "    background-color: var(--hover-bg-color);\n",
              "    box-shadow: 0 1px 2px rgba(60, 64, 67, 0.3), 0 1px 3px 1px rgba(60, 64, 67, 0.15);\n",
              "    fill: var(--button-hover-fill-color);\n",
              "  }\n",
              "\n",
              "  .colab-df-quickchart-complete:disabled,\n",
              "  .colab-df-quickchart-complete:disabled:hover {\n",
              "    background-color: var(--disabled-bg-color);\n",
              "    fill: var(--disabled-fill-color);\n",
              "    box-shadow: none;\n",
              "  }\n",
              "\n",
              "  .colab-df-spinner {\n",
              "    border: 2px solid var(--fill-color);\n",
              "    border-color: transparent;\n",
              "    border-bottom-color: var(--fill-color);\n",
              "    animation:\n",
              "      spin 1s steps(1) infinite;\n",
              "  }\n",
              "\n",
              "  @keyframes spin {\n",
              "    0% {\n",
              "      border-color: transparent;\n",
              "      border-bottom-color: var(--fill-color);\n",
              "      border-left-color: var(--fill-color);\n",
              "    }\n",
              "    20% {\n",
              "      border-color: transparent;\n",
              "      border-left-color: var(--fill-color);\n",
              "      border-top-color: var(--fill-color);\n",
              "    }\n",
              "    30% {\n",
              "      border-color: transparent;\n",
              "      border-left-color: var(--fill-color);\n",
              "      border-top-color: var(--fill-color);\n",
              "      border-right-color: var(--fill-color);\n",
              "    }\n",
              "    40% {\n",
              "      border-color: transparent;\n",
              "      border-right-color: var(--fill-color);\n",
              "      border-top-color: var(--fill-color);\n",
              "    }\n",
              "    60% {\n",
              "      border-color: transparent;\n",
              "      border-right-color: var(--fill-color);\n",
              "    }\n",
              "    80% {\n",
              "      border-color: transparent;\n",
              "      border-right-color: var(--fill-color);\n",
              "      border-bottom-color: var(--fill-color);\n",
              "    }\n",
              "    90% {\n",
              "      border-color: transparent;\n",
              "      border-bottom-color: var(--fill-color);\n",
              "    }\n",
              "  }\n",
              "</style>\n",
              "\n",
              "  <script>\n",
              "    async function quickchart(key) {\n",
              "      const quickchartButtonEl =\n",
              "        document.querySelector('#' + key + ' button');\n",
              "      quickchartButtonEl.disabled = true;  // To prevent multiple clicks.\n",
              "      quickchartButtonEl.classList.add('colab-df-spinner');\n",
              "      try {\n",
              "        const charts = await google.colab.kernel.invokeFunction(\n",
              "            'suggestCharts', [key], {});\n",
              "      } catch (error) {\n",
              "        console.error('Error during call to suggestCharts:', error);\n",
              "      }\n",
              "      quickchartButtonEl.classList.remove('colab-df-spinner');\n",
              "      quickchartButtonEl.classList.add('colab-df-quickchart-complete');\n",
              "    }\n",
              "    (() => {\n",
              "      let quickchartButtonEl =\n",
              "        document.querySelector('#df-6f4c3282-b3ea-47ad-a64d-235ccca0b5b5 button');\n",
              "      quickchartButtonEl.style.display =\n",
              "        google.colab.kernel.accessAllowed ? 'block' : 'none';\n",
              "    })();\n",
              "  </script>\n",
              "</div>\n",
              "    </div>\n",
              "  </div>\n"
            ],
            "application/vnd.google.colaboratory.intrinsic+json": {
              "type": "dataframe",
              "variable_name": "retention_matrix"
            }
          },
          "metadata": {},
          "execution_count": 15
        }
      ],
      "source": [
        "def calculate_retention(start_date, end_date):\n",
        "    \"\"\"\n",
        "    Функция для расчета коэффициента удержания пользователей (Retention) за указанный период.\n",
        "\n",
        "    Параметры:\n",
        "    start_date (str): Дата начала периода учета в формате 'YYYY-MM-DD'.\n",
        "    end_date (str): Дата конца периода учета в формате 'YYYY-MM-DD'.\n",
        "\n",
        "    Возвращает:\n",
        "    tuple:\n",
        "        - retention_matrix (DataFrame): Матрица удержания пользователей по когортам.\n",
        "        - cohort_size (Series): Размеры когорт.\n",
        "    \"\"\"\n",
        "\n",
        "    reg_copy = data_reg[(data_reg['reg_ts'] >= start_date) & (data_reg['reg_ts'] <= end_date)]\n",
        "    auth_copy = data_auth[(data_auth['auth_ts'] >= start_date) & (data_auth['auth_ts'] <= end_date)]\n",
        "\n",
        "    data_merge = reg_copy.merge(auth_copy, on='uid', how='left')\n",
        "\n",
        "    data_merge['period_day'] = data_merge['auth_ts'].dt.to_period('D')\n",
        "\n",
        "    data_merge['cohort'] = data_merge.groupby('uid')['auth_ts'].transform('min').dt.to_period('D')\n",
        "\n",
        "    data_merge['period_number_day'] = np.floor((data_merge.period_day - data_merge.cohort).apply(attrgetter('n')))\n",
        "\n",
        "    df_cohort = data_merge.groupby(['cohort', 'period_number_day']).agg(n_users=('uid', 'nunique')).reset_index()\n",
        "\n",
        "    cohort_pivot = df_cohort.pivot_table(index='cohort', columns='period_number_day', values='n_users')\n",
        "\n",
        "    cohort_size = cohort_pivot.iloc[:, 0]\n",
        "\n",
        "    retention_matrix = cohort_pivot.divide(cohort_size, axis=0)\n",
        "\n",
        "    return retention_matrix, cohort_size\n",
        "\n",
        "# Реализация функции\n",
        "start_date = '2020-09-01'\n",
        "end_date = '2020-09-23'\n",
        "\n",
        "retention_matrix, cohort_size = calculate_retention(start_date, end_date)\n",
        "retention_matrix"
      ]
    },
    {
      "cell_type": "markdown",
      "metadata": {
        "id": "Ux1wZdnTE34q"
      },
      "source": [
        "Функция подсчета Retention готова."
      ]
    },
    {
      "cell_type": "markdown",
      "metadata": {
        "id": "m5s_rdZTE34q"
      },
      "source": [
        "Добавляю визуализацию показателя Retention"
      ]
    },
    {
      "cell_type": "code",
      "execution_count": 16,
      "metadata": {
        "id": "CyJSF1vRE34q",
        "outputId": "0a74a107-9f98-4916-e31d-591ac4e70747",
        "colab": {
          "base_uri": "https://localhost:8080/",
          "height": 1000
        }
      },
      "outputs": [
        {
          "output_type": "stream",
          "name": "stderr",
          "text": [
            "<ipython-input-16-afa7275de1da>:19: MatplotlibDeprecationWarning: The get_cmap function was deprecated in Matplotlib 3.7 and will be removed in 3.11. Use ``matplotlib.colormaps[name]`` or ``matplotlib.colormaps.get_cmap()`` or ``pyplot.get_cmap()`` instead.\n",
            "  white_cmap = plt.cm.get_cmap('Blues', 1)\n"
          ]
        },
        {
          "output_type": "display_data",
          "data": {
            "text/plain": [
              "<Figure size 1600x1200 with 3 Axes>"
            ],
            "image/png": "[encoded data removed]"
          },
          "metadata": {}
        }
      ],
      "source": [
        "with sns.axes_style(\"white\"):\n",
        "    fig, ax = plt.subplots(1, 2, figsize=(16, 12), sharey=True, gridspec_kw={'width_ratios': [1, 11]})\n",
        "\n",
        "    # Создаю маску, в которой не будет Retention за нулевой день, т.к. в этот день показатель всегда 100%\n",
        "    mask = retention_matrix.iloc[:, 1:].isnull()\n",
        "\n",
        "    # Тепловая карта для коэффициентов удержания без учета нулевого дня, т.к. там всегда 100%\n",
        "    sns.heatmap(retention_matrix.iloc[:, 1:],\n",
        "                mask=mask,\n",
        "                annot=True,\n",
        "                fmt='.0%',\n",
        "                cmap='RdYlGn',\n",
        "                ax=ax[1])\n",
        "    ax[1].set_title('Daily Retention', fontsize=16)\n",
        "    ax[1].set(xlabel='№ периода', ylabel='Когорта')\n",
        "\n",
        "    # Тепловая карта для размеров когорт\n",
        "    cohort_size_df = pd.DataFrame(cohort_size).rename(columns={0: 'cohort_size'})\n",
        "    white_cmap = plt.cm.get_cmap('Blues', 1)\n",
        "    sns.heatmap(cohort_size_df,\n",
        "                annot=True,\n",
        "                cbar=False,\n",
        "                fmt='g',\n",
        "                cmap=white_cmap,\n",
        "                ax=ax[0])\n",
        "\n",
        "    fig.tight_layout()\n",
        "    plt.show()"
      ]
    },
    {
      "cell_type": "markdown",
      "metadata": {
        "id": "30iTmBkvE34q"
      },
      "source": [
        "# Задание 2\n",
        "\n",
        "Имеются результаты A/B теста, в котором двум группам пользователей предлагались различные наборы акционных предложений. Известно, что ARPU в тестовой группе выше на 5%, чем в контрольной. При этом в контрольной группе 1928 игроков из 202103 оказались платящими, а в тестовой – 1805 из 202667.\n",
        "\n",
        "**Какой набор предложений можно считать лучшим? Какие метрики стоит проанализировать для принятия правильного решения и как?**"
      ]
    },
    {
      "cell_type": "markdown",
      "source": [
        "Данные хранятся на яндекс.диске, ссылка для скачивания:\n",
        "\n",
        "Проект__1_Задание_2.csv - https://disk.yandex.ru/d/SOkIsD5A8xlI7Q"
      ],
      "metadata": {
        "id": "B6lrlchMFyw2"
      }
    },
    {
      "cell_type": "code",
      "source": [
        "base_url = 'https://cloud-api.yandex.net/v1/disk/public/resources/download?'\n",
        "file_url = 'https://disk.yandex.ru/d/SOkIsD5A8xlI7Q'\n",
        "\n",
        "final_url = base_url + urlencode(dict(public_key=file_url))\n",
        "\n",
        "response = requests.get(final_url)\n",
        "\n",
        "download_url = response.json()['href']\n",
        "\n",
        "# Загружю и сохраняю файл\n",
        "download_response = requests.get(download_url)\n",
        "\n",
        "task_2 = pd.read_csv(download_url, sep=';')"
      ],
      "metadata": {
        "id": "5IKIjznvGozt"
      },
      "execution_count": 17,
      "outputs": []
    },
    {
      "cell_type": "code",
      "execution_count": 18,
      "metadata": {
        "id": "9qtVsji4E34q"
      },
      "outputs": [],
      "source": [
        "# Создаю новый датафрейм, где данные только о платящих пользователях\n",
        "task_2_paying = task_2.query(\"revenue > 0\")"
      ]
    },
    {
      "cell_type": "code",
      "execution_count": 19,
      "metadata": {
        "id": "bFDSKuVUE34q"
      },
      "outputs": [],
      "source": [
        "# Создаю новый датафрейм с данными только о пользователях из контрольной группы для будущих расчетов\n",
        "group_a = task_2.query(\"testgroup == 'a'\")"
      ]
    },
    {
      "cell_type": "code",
      "execution_count": 20,
      "metadata": {
        "id": "mF3u0vc9E34q"
      },
      "outputs": [],
      "source": [
        "# Создаю новый датафрейм с данными только о пользователях из тестовой группы для будущих расчетов\n",
        "group_b = task_2.query(\"testgroup == 'b'\")"
      ]
    },
    {
      "cell_type": "code",
      "execution_count": 21,
      "metadata": {
        "id": "hGoZRAzXE34q"
      },
      "outputs": [],
      "source": [
        "# Подсчитываю количество платящих пользователей в контрольной группе для будущих расчетов ARPPU\n",
        "paying_users_a = group_a.query(\"revenue > 0\").user_id.nunique()"
      ]
    },
    {
      "cell_type": "code",
      "execution_count": 22,
      "metadata": {
        "id": "bGiTdeKBE34r"
      },
      "outputs": [],
      "source": [
        "# Подсчитываю количество платящих пользователей в тестовой группе для будущих расчетов ARPPU\n",
        "paying_users_b = group_b.query(\"revenue > 0\").user_id.nunique()"
      ]
    },
    {
      "cell_type": "code",
      "execution_count": 23,
      "metadata": {
        "id": "xyjrKjVvE34r"
      },
      "outputs": [],
      "source": [
        "# Подсчитываю общее количество пользователей в контрольной группе для расчета ARPU\n",
        "users_a = group_a.user_id.nunique()"
      ]
    },
    {
      "cell_type": "code",
      "execution_count": 24,
      "metadata": {
        "id": "17BV01UzE34r"
      },
      "outputs": [],
      "source": [
        "# Подсчитываю общее количество пользователей в тестовой группе для расчета ARPU\n",
        "users_b = group_b.user_id.nunique()"
      ]
    },
    {
      "cell_type": "code",
      "execution_count": 25,
      "metadata": {
        "id": "32rNJjw9E34r",
        "outputId": "7e31a090-de0e-47b8-c367-332ef54badbf",
        "colab": {
          "base_uri": "https://localhost:8080/",
          "height": 112
        }
      },
      "outputs": [
        {
          "output_type": "execute_result",
          "data": {
            "text/plain": [
              "  testgroup  revenue\n",
              "0         a  5136189\n",
              "1         b  5421603"
            ],
            "text/html": [
              "\n",
              "  <div id=\"df-b8930095-6129-44fa-ba46-178e5e317958\" class=\"colab-df-container\">\n",
              "    <div>\n",
              "<style scoped>\n",
              "    .dataframe tbody tr th:only-of-type {\n",
              "        vertical-align: middle;\n",
              "    }\n",
              "\n",
              "    .dataframe tbody tr th {\n",
              "        vertical-align: top;\n",
              "    }\n",
              "\n",
              "    .dataframe thead th {\n",
              "        text-align: right;\n",
              "    }\n",
              "</style>\n",
              "<table border=\"1\" class=\"dataframe\">\n",
              "  <thead>\n",
              "    <tr style=\"text-align: right;\">\n",
              "      <th></th>\n",
              "      <th>testgroup</th>\n",
              "      <th>revenue</th>\n",
              "    </tr>\n",
              "  </thead>\n",
              "  <tbody>\n",
              "    <tr>\n",
              "      <th>0</th>\n",
              "      <td>a</td>\n",
              "      <td>5136189</td>\n",
              "    </tr>\n",
              "    <tr>\n",
              "      <th>1</th>\n",
              "      <td>b</td>\n",
              "      <td>5421603</td>\n",
              "    </tr>\n",
              "  </tbody>\n",
              "</table>\n",
              "</div>\n",
              "    <div class=\"colab-df-buttons\">\n",
              "\n",
              "  <div class=\"colab-df-container\">\n",
              "    <button class=\"colab-df-convert\" onclick=\"convertToInteractive('df-b8930095-6129-44fa-ba46-178e5e317958')\"\n",
              "            title=\"Convert this dataframe to an interactive table.\"\n",
              "            style=\"display:none;\">\n",
              "\n",
              "  <svg xmlns=\"http://www.w3.org/2000/svg\" height=\"24px\" viewBox=\"0 -960 960 960\">\n",
              "    <path d=\"M120-120v-720h720v720H120Zm60-500h600v-160H180v160Zm220 220h160v-160H400v160Zm0 220h160v-160H400v160ZM180-400h160v-160H180v160Zm440 0h160v-160H620v160ZM180-180h160v-160H180v160Zm440 0h160v-160H620v160Z\"/>\n",
              "  </svg>\n",
              "    </button>\n",
              "\n",
              "  <style>\n",
              "    .colab-df-container {\n",
              "      display:flex;\n",
              "      gap: 12px;\n",
              "    }\n",
              "\n",
              "    .colab-df-convert {\n",
              "      background-color: #E8F0FE;\n",
              "      border: none;\n",
              "      border-radius: 50%;\n",
              "      cursor: pointer;\n",
              "      display: none;\n",
              "      fill: #1967D2;\n",
              "      height: 32px;\n",
              "      padding: 0 0 0 0;\n",
              "      width: 32px;\n",
              "    }\n",
              "\n",
              "    .colab-df-convert:hover {\n",
              "      background-color: #E2EBFA;\n",
              "      box-shadow: 0px 1px 2px rgba(60, 64, 67, 0.3), 0px 1px 3px 1px rgba(60, 64, 67, 0.15);\n",
              "      fill: #174EA6;\n",
              "    }\n",
              "\n",
              "    .colab-df-buttons div {\n",
              "      margin-bottom: 4px;\n",
              "    }\n",
              "\n",
              "    [theme=dark] .colab-df-convert {\n",
              "      background-color: #3B4455;\n",
              "      fill: #D2E3FC;\n",
              "    }\n",
              "\n",
              "    [theme=dark] .colab-df-convert:hover {\n",
              "      background-color: #434B5C;\n",
              "      box-shadow: 0px 1px 3px 1px rgba(0, 0, 0, 0.15);\n",
              "      filter: drop-shadow(0px 1px 2px rgba(0, 0, 0, 0.3));\n",
              "      fill: #FFFFFF;\n",
              "    }\n",
              "  </style>\n",
              "\n",
              "    <script>\n",
              "      const buttonEl =\n",
              "        document.querySelector('#df-b8930095-6129-44fa-ba46-178e5e317958 button.colab-df-convert');\n",
              "      buttonEl.style.display =\n",
              "        google.colab.kernel.accessAllowed ? 'block' : 'none';\n",
              "\n",
              "      async function convertToInteractive(key) {\n",
              "        const element = document.querySelector('#df-b8930095-6129-44fa-ba46-178e5e317958');\n",
              "        const dataTable =\n",
              "          await google.colab.kernel.invokeFunction('convertToInteractive',\n",
              "                                                    [key], {});\n",
              "        if (!dataTable) return;\n",
              "\n",
              "        const docLinkHtml = 'Like what you see? Visit the ' +\n",
              "          '<a target=\"_blank\" href=https://colab.research.google.com/notebooks/data_table.ipynb>data table notebook</a>'\n",
              "          + ' to learn more about interactive tables.';\n",
              "        element.innerHTML = '';\n",
              "        dataTable['output_type'] = 'display_data';\n",
              "        await google.colab.output.renderOutput(dataTable, element);\n",
              "        const docLink = document.createElement('div');\n",
              "        docLink.innerHTML = docLinkHtml;\n",
              "        element.appendChild(docLink);\n",
              "      }\n",
              "    </script>\n",
              "  </div>\n",
              "\n",
              "\n",
              "<div id=\"df-e778be77-6dce-4569-8828-edbdecf15dac\">\n",
              "  <button class=\"colab-df-quickchart\" onclick=\"quickchart('df-e778be77-6dce-4569-8828-edbdecf15dac')\"\n",
              "            title=\"Suggest charts\"\n",
              "            style=\"display:none;\">\n",
              "\n",
              "<svg xmlns=\"http://www.w3.org/2000/svg\" height=\"24px\"viewBox=\"0 0 24 24\"\n",
              "     width=\"24px\">\n",
              "    <g>\n",
              "        <path d=\"M19 3H5c-1.1 0-2 .9-2 2v14c0 1.1.9 2 2 2h14c1.1 0 2-.9 2-2V5c0-1.1-.9-2-2-2zM9 17H7v-7h2v7zm4 0h-2V7h2v10zm4 0h-2v-4h2v4z\"/>\n",
              "    </g>\n",
              "</svg>\n",
              "  </button>\n",
              "\n",
              "<style>\n",
              "  .colab-df-quickchart {\n",
              "      --bg-color: #E8F0FE;\n",
              "      --fill-color: #1967D2;\n",
              "      --hover-bg-color: #E2EBFA;\n",
              "      --hover-fill-color: #174EA6;\n",
              "      --disabled-fill-color: #AAA;\n",
              "      --disabled-bg-color: #DDD;\n",
              "  }\n",
              "\n",
              "  [theme=dark] .colab-df-quickchart {\n",
              "      --bg-color: #3B4455;\n",
              "      --fill-color: #D2E3FC;\n",
              "      --hover-bg-color: #434B5C;\n",
              "      --hover-fill-color: #FFFFFF;\n",
              "      --disabled-bg-color: #3B4455;\n",
              "      --disabled-fill-color: #666;\n",
              "  }\n",
              "\n",
              "  .colab-df-quickchart {\n",
              "    background-color: var(--bg-color);\n",
              "    border: none;\n",
              "    border-radius: 50%;\n",
              "    cursor: pointer;\n",
              "    display: none;\n",
              "    fill: var(--fill-color);\n",
              "    height: 32px;\n",
              "    padding: 0;\n",
              "    width: 32px;\n",
              "  }\n",
              "\n",
              "  .colab-df-quickchart:hover {\n",
              "    background-color: var(--hover-bg-color);\n",
              "    box-shadow: 0 1px 2px rgba(60, 64, 67, 0.3), 0 1px 3px 1px rgba(60, 64, 67, 0.15);\n",
              "    fill: var(--button-hover-fill-color);\n",
              "  }\n",
              "\n",
              "  .colab-df-quickchart-complete:disabled,\n",
              "  .colab-df-quickchart-complete:disabled:hover {\n",
              "    background-color: var(--disabled-bg-color);\n",
              "    fill: var(--disabled-fill-color);\n",
              "    box-shadow: none;\n",
              "  }\n",
              "\n",
              "  .colab-df-spinner {\n",
              "    border: 2px solid var(--fill-color);\n",
              "    border-color: transparent;\n",
              "    border-bottom-color: var(--fill-color);\n",
              "    animation:\n",
              "      spin 1s steps(1) infinite;\n",
              "  }\n",
              "\n",
              "  @keyframes spin {\n",
              "    0% {\n",
              "      border-color: transparent;\n",
              "      border-bottom-color: var(--fill-color);\n",
              "      border-left-color: var(--fill-color);\n",
              "    }\n",
              "    20% {\n",
              "      border-color: transparent;\n",
              "      border-left-color: var(--fill-color);\n",
              "      border-top-color: var(--fill-color);\n",
              "    }\n",
              "    30% {\n",
              "      border-color: transparent;\n",
              "      border-left-color: var(--fill-color);\n",
              "      border-top-color: var(--fill-color);\n",
              "      border-right-color: var(--fill-color);\n",
              "    }\n",
              "    40% {\n",
              "      border-color: transparent;\n",
              "      border-right-color: var(--fill-color);\n",
              "      border-top-color: var(--fill-color);\n",
              "    }\n",
              "    60% {\n",
              "      border-color: transparent;\n",
              "      border-right-color: var(--fill-color);\n",
              "    }\n",
              "    80% {\n",
              "      border-color: transparent;\n",
              "      border-right-color: var(--fill-color);\n",
              "      border-bottom-color: var(--fill-color);\n",
              "    }\n",
              "    90% {\n",
              "      border-color: transparent;\n",
              "      border-bottom-color: var(--fill-color);\n",
              "    }\n",
              "  }\n",
              "</style>\n",
              "\n",
              "  <script>\n",
              "    async function quickchart(key) {\n",
              "      const quickchartButtonEl =\n",
              "        document.querySelector('#' + key + ' button');\n",
              "      quickchartButtonEl.disabled = true;  // To prevent multiple clicks.\n",
              "      quickchartButtonEl.classList.add('colab-df-spinner');\n",
              "      try {\n",
              "        const charts = await google.colab.kernel.invokeFunction(\n",
              "            'suggestCharts', [key], {});\n",
              "      } catch (error) {\n",
              "        console.error('Error during call to suggestCharts:', error);\n",
              "      }\n",
              "      quickchartButtonEl.classList.remove('colab-df-spinner');\n",
              "      quickchartButtonEl.classList.add('colab-df-quickchart-complete');\n",
              "    }\n",
              "    (() => {\n",
              "      let quickchartButtonEl =\n",
              "        document.querySelector('#df-e778be77-6dce-4569-8828-edbdecf15dac button');\n",
              "      quickchartButtonEl.style.display =\n",
              "        google.colab.kernel.accessAllowed ? 'block' : 'none';\n",
              "    })();\n",
              "  </script>\n",
              "</div>\n",
              "    </div>\n",
              "  </div>\n"
            ],
            "application/vnd.google.colaboratory.intrinsic+json": {
              "type": "dataframe",
              "variable_name": "revenue_total",
              "summary": "{\n  \"name\": \"revenue_total\",\n  \"rows\": 2,\n  \"fields\": [\n    {\n      \"column\": \"testgroup\",\n      \"properties\": {\n        \"dtype\": \"string\",\n        \"num_unique_values\": 2,\n        \"samples\": [\n          \"b\",\n          \"a\"\n        ],\n        \"semantic_type\": \"\",\n        \"description\": \"\"\n      }\n    },\n    {\n      \"column\": \"revenue\",\n      \"properties\": {\n        \"dtype\": \"number\",\n        \"std\": 201818,\n        \"min\": 5136189,\n        \"max\": 5421603,\n        \"num_unique_values\": 2,\n        \"samples\": [\n          5421603,\n          5136189\n        ],\n        \"semantic_type\": \"\",\n        \"description\": \"\"\n      }\n    }\n  ]\n}"
            }
          },
          "metadata": {},
          "execution_count": 25
        }
      ],
      "source": [
        "# Создаю новый датафрейм с расчетом общих доходов по каждой группе\n",
        "revenue_total = task_2.groupby('testgroup', as_index=False) \\\n",
        "                      .agg({'revenue' : 'sum'})\n",
        "revenue_total"
      ]
    },
    {
      "cell_type": "code",
      "execution_count": 26,
      "metadata": {
        "id": "k6tJp-1WE34r"
      },
      "outputs": [],
      "source": [
        "# Рассчитываю разницу в доходах в абсолютных значениях между тестовой и контрольной группами\n",
        "revenue_total.set_index('testgroup', inplace=True)\n",
        "difference = revenue_total['revenue'].diff().iloc[-1]"
      ]
    },
    {
      "cell_type": "code",
      "execution_count": 27,
      "metadata": {
        "id": "2sRPfBlbE34r",
        "outputId": "86322203-7d66-4285-81fe-a7574d682461",
        "colab": {
          "base_uri": "https://localhost:8080/"
        }
      },
      "outputs": [
        {
          "output_type": "execute_result",
          "data": {
            "text/plain": [
              "np.float64(285414.0)"
            ]
          },
          "metadata": {},
          "execution_count": 27
        }
      ],
      "source": [
        "difference"
      ]
    },
    {
      "cell_type": "code",
      "execution_count": 28,
      "metadata": {
        "id": "_uYImpAJE34r"
      },
      "outputs": [],
      "source": [
        "# Создаю 2 Series для проверки гомогенности дисперсии доходов по всем пользователям в выборках\n",
        "control_group = task_2[task_2['testgroup'] == 'a']['revenue']\n",
        "test_group = task_2[task_2['testgroup'] == 'b']['revenue']"
      ]
    },
    {
      "cell_type": "code",
      "execution_count": 29,
      "metadata": {
        "id": "yBpqr27DE34r"
      },
      "outputs": [],
      "source": [
        "# Создаю 2 Series для проверки гомогенности дисперсии доходов по платящим пользователям в выборках\n",
        "control_group_paying = task_2[(task_2['testgroup'] == 'a') & (task_2['revenue'] > 0)]['revenue']\n",
        "test_group_paying = task_2[(task_2['testgroup'] == 'b') & (task_2['revenue'] > 0)]['revenue']"
      ]
    },
    {
      "cell_type": "code",
      "execution_count": 30,
      "metadata": {
        "id": "LPrRpc3CE34r",
        "outputId": "eec9cb02-9066-4357-dc2a-b566ec359127",
        "colab": {
          "base_uri": "https://localhost:8080/"
        }
      },
      "outputs": [
        {
          "output_type": "stream",
          "name": "stdout",
          "text": [
            "Статистика теста Левене: 0.3896289474701388, P-значение: 0.5324948591043842\n"
          ]
        }
      ],
      "source": [
        "# Использую тест Левене для проверки гомогенности дисперсий по всем пользователям\n",
        "stat, p_value = levene(control_group, test_group)\n",
        "\n",
        "print(f'Статистика теста Левене: {stat}, P-значение: {p_value}')"
      ]
    },
    {
      "cell_type": "code",
      "execution_count": 31,
      "metadata": {
        "id": "OdEF53TDE34r",
        "outputId": "e82e0c3d-161c-45d6-feda-e18be95851cc",
        "colab": {
          "base_uri": "https://localhost:8080/"
        }
      },
      "outputs": [
        {
          "output_type": "stream",
          "name": "stdout",
          "text": [
            "Статистика теста Левене: 80.85567421779912, P-значение: 3.779689868667878e-19\n"
          ]
        }
      ],
      "source": [
        "# Использую тест Левене для проверки гомогенности дисперсий по платящим пользователям\n",
        "stat, p_value = levene(control_group_paying, test_group_paying)\n",
        "\n",
        "print(f'Статистика теста Левене: {stat}, P-значение: {p_value}')"
      ]
    },
    {
      "cell_type": "markdown",
      "metadata": {
        "id": "jF4_mNx1E34r"
      },
      "source": [
        "По результатам тестов при проверке гомогенности дисперсий в исходных выборках p-value равняется 0.53, что указывает на то, что у нас нет оснований полагать, что дисперсии в наших группах различаются, а значит далее, при проведении T-test'а для этой же выборки, мы будем использовать параметр equal_var как True. При проверке гомогенности дисперсий только по платящим пользователям p-value сильно ниже 0,05, поэтому предполагаем, что дисперсии в данных выборках различаются, поэтому при проведении T-test'a будем использовать equal_var как False."
      ]
    },
    {
      "cell_type": "code",
      "execution_count": 32,
      "metadata": {
        "id": "04nnqzMxE34r"
      },
      "outputs": [],
      "source": [
        "# Создаю два Series, в которых будут указаны доходы от каждого пользователя в группе\n",
        "# Это нужно для проведения T-теста и оценки, имеют ли данные о доходах в 2ух группах стат. значимые различия\n",
        "revenue_a = task_2[task_2['testgroup'] == 'a']['revenue']\n",
        "revenue_b = task_2[task_2['testgroup'] == 'b']['revenue']"
      ]
    },
    {
      "cell_type": "markdown",
      "metadata": {
        "id": "bmZolY3LE34r"
      },
      "source": [
        "Далее провожу T-test для оценки того, есть ли статистически значимые различия в данных о доходах между нашими группами."
      ]
    },
    {
      "cell_type": "code",
      "execution_count": 33,
      "metadata": {
        "id": "FEKmN_zCE34r",
        "outputId": "89585707-201c-44de-fea1-20562963f1a0",
        "colab": {
          "base_uri": "https://localhost:8080/"
        }
      },
      "outputs": [
        {
          "output_type": "execute_result",
          "data": {
            "text/plain": [
              "TtestResult(statistic=np.float64(-0.6242026493616787), pvalue=np.float64(0.532494858971837), df=np.float64(404768.0))"
            ]
          },
          "metadata": {},
          "execution_count": 33
        }
      ],
      "source": [
        "stats.ttest_ind(revenue_a, revenue_b, equal_var=True)"
      ]
    },
    {
      "cell_type": "markdown",
      "metadata": {
        "id": "4-Lb3OzZE34r"
      },
      "source": [
        "Так же провожу T-test для этих же групп пользователей, но без учета неплатящих пользователей."
      ]
    },
    {
      "cell_type": "code",
      "execution_count": 34,
      "metadata": {
        "id": "s5f-aViXE34r"
      },
      "outputs": [],
      "source": [
        "# По аналогии с кодом ранее, создаю Series с доходами по каждому платящему пользователю\n",
        "revenue_a_paying = task_2_paying[task_2_paying['testgroup'] == 'a']['revenue']\n",
        "revenue_b_paying = task_2_paying[task_2_paying['testgroup'] == 'b']['revenue']"
      ]
    },
    {
      "cell_type": "code",
      "execution_count": 35,
      "metadata": {
        "id": "1EDEGNtzE340",
        "outputId": "02df66a0-1c5d-4840-b721-7762dfeb1680",
        "colab": {
          "base_uri": "https://localhost:8080/"
        }
      },
      "outputs": [
        {
          "output_type": "execute_result",
          "data": {
            "text/plain": [
              "TtestResult(statistic=np.float64(-1.644630266430084), pvalue=np.float64(0.10020780398916015), df=np.float64(1943.4815217434643))"
            ]
          },
          "metadata": {},
          "execution_count": 35
        }
      ],
      "source": [
        "stats.ttest_ind(revenue_a_paying, revenue_b_paying, equal_var=False)"
      ]
    },
    {
      "cell_type": "markdown",
      "metadata": {
        "id": "avfo7P_PE340"
      },
      "source": [
        "# По результатам двух Т-тестов видим, что во всех случаях значение p-value значительно выше, чем 0,05, поэтому мы не можем отвергнуть нулевую гипотезу нашего А/Б теста о том, что статистически значимых различий в группах нет. Отсюда вывод, что, несмотря на то, что ARPU в тестовой группе выше на 5%, это не означает, что разница в доходах между группами статистически значима."
      ]
    },
    {
      "cell_type": "code",
      "execution_count": 36,
      "metadata": {
        "id": "9D2DKRQeE340",
        "outputId": "4826300a-49d8-4cf1-b090-e647a2d64437",
        "colab": {
          "base_uri": "https://localhost:8080/",
          "height": 335
        }
      },
      "outputs": [
        {
          "output_type": "execute_result",
          "data": {
            "text/plain": [
              "count    202103.000000\n",
              "mean         25.413720\n",
              "std         920.768137\n",
              "min           0.000000\n",
              "25%           0.000000\n",
              "50%           0.000000\n",
              "75%           0.000000\n",
              "max       37433.000000\n",
              "Name: revenue, dtype: float64"
            ],
            "text/html": [
              "<div>\n",
              "<style scoped>\n",
              "    .dataframe tbody tr th:only-of-type {\n",
              "        vertical-align: middle;\n",
              "    }\n",
              "\n",
              "    .dataframe tbody tr th {\n",
              "        vertical-align: top;\n",
              "    }\n",
              "\n",
              "    .dataframe thead th {\n",
              "        text-align: right;\n",
              "    }\n",
              "</style>\n",
              "<table border=\"1\" class=\"dataframe\">\n",
              "  <thead>\n",
              "    <tr style=\"text-align: right;\">\n",
              "      <th></th>\n",
              "      <th>revenue</th>\n",
              "    </tr>\n",
              "  </thead>\n",
              "  <tbody>\n",
              "    <tr>\n",
              "      <th>count</th>\n",
              "      <td>202103.000000</td>\n",
              "    </tr>\n",
              "    <tr>\n",
              "      <th>mean</th>\n",
              "      <td>25.413720</td>\n",
              "    </tr>\n",
              "    <tr>\n",
              "      <th>std</th>\n",
              "      <td>920.768137</td>\n",
              "    </tr>\n",
              "    <tr>\n",
              "      <th>min</th>\n",
              "      <td>0.000000</td>\n",
              "    </tr>\n",
              "    <tr>\n",
              "      <th>25%</th>\n",
              "      <td>0.000000</td>\n",
              "    </tr>\n",
              "    <tr>\n",
              "      <th>50%</th>\n",
              "      <td>0.000000</td>\n",
              "    </tr>\n",
              "    <tr>\n",
              "      <th>75%</th>\n",
              "      <td>0.000000</td>\n",
              "    </tr>\n",
              "    <tr>\n",
              "      <th>max</th>\n",
              "      <td>37433.000000</td>\n",
              "    </tr>\n",
              "  </tbody>\n",
              "</table>\n",
              "</div><br><label><b>dtype:</b> float64</label>"
            ]
          },
          "metadata": {},
          "execution_count": 36
        }
      ],
      "source": [
        "# Использую describe, чтобы оценить разброс значений Revenue в контрольной группе\n",
        "group_a.revenue.describe()"
      ]
    },
    {
      "cell_type": "code",
      "execution_count": 37,
      "metadata": {
        "id": "EhZtHTlhE340",
        "outputId": "f1e923f4-c9a6-445c-c64e-73a60f50d94f",
        "colab": {
          "base_uri": "https://localhost:8080/",
          "height": 335
        }
      },
      "outputs": [
        {
          "output_type": "execute_result",
          "data": {
            "text/plain": [
              "count    202667.000000\n",
              "mean         26.751287\n",
              "std         287.324162\n",
              "min           0.000000\n",
              "25%           0.000000\n",
              "50%           0.000000\n",
              "75%           0.000000\n",
              "max        4000.000000\n",
              "Name: revenue, dtype: float64"
            ],
            "text/html": [
              "<div>\n",
              "<style scoped>\n",
              "    .dataframe tbody tr th:only-of-type {\n",
              "        vertical-align: middle;\n",
              "    }\n",
              "\n",
              "    .dataframe tbody tr th {\n",
              "        vertical-align: top;\n",
              "    }\n",
              "\n",
              "    .dataframe thead th {\n",
              "        text-align: right;\n",
              "    }\n",
              "</style>\n",
              "<table border=\"1\" class=\"dataframe\">\n",
              "  <thead>\n",
              "    <tr style=\"text-align: right;\">\n",
              "      <th></th>\n",
              "      <th>revenue</th>\n",
              "    </tr>\n",
              "  </thead>\n",
              "  <tbody>\n",
              "    <tr>\n",
              "      <th>count</th>\n",
              "      <td>202667.000000</td>\n",
              "    </tr>\n",
              "    <tr>\n",
              "      <th>mean</th>\n",
              "      <td>26.751287</td>\n",
              "    </tr>\n",
              "    <tr>\n",
              "      <th>std</th>\n",
              "      <td>287.324162</td>\n",
              "    </tr>\n",
              "    <tr>\n",
              "      <th>min</th>\n",
              "      <td>0.000000</td>\n",
              "    </tr>\n",
              "    <tr>\n",
              "      <th>25%</th>\n",
              "      <td>0.000000</td>\n",
              "    </tr>\n",
              "    <tr>\n",
              "      <th>50%</th>\n",
              "      <td>0.000000</td>\n",
              "    </tr>\n",
              "    <tr>\n",
              "      <th>75%</th>\n",
              "      <td>0.000000</td>\n",
              "    </tr>\n",
              "    <tr>\n",
              "      <th>max</th>\n",
              "      <td>4000.000000</td>\n",
              "    </tr>\n",
              "  </tbody>\n",
              "</table>\n",
              "</div><br><label><b>dtype:</b> float64</label>"
            ]
          },
          "metadata": {},
          "execution_count": 37
        }
      ],
      "source": [
        "# Использую describe, чтобы оценить разброс значений Revenue в тестовой группе\n",
        "group_b.revenue.describe()"
      ]
    },
    {
      "cell_type": "markdown",
      "metadata": {
        "id": "NOPhlUwjE340"
      },
      "source": [
        "Смотря на основные статистические показатели в разрезе по группам видим, что у групп пользователей крайне большие различия в стандартном отклонении (920,77 в контрольной группе и 287,32 в тестовой) и в максимальных значениях (37433 в контрольной группе и 4000 в тестовой группе). Такие различия в данных вызывают сомнения в корректности проведенного эксперимента. Вероятно, дизайн эксперимента нарушен и сплитование проведено некорректно. Вероятно, необходимо пересобрать группы и повторно запустить эксперимент."
      ]
    },
    {
      "cell_type": "markdown",
      "metadata": {
        "id": "_G5ftwIcE340"
      },
      "source": [
        "Далее я рассчитал метрики ARPU, ARPPU и CR, чтобы продемонстрировать понимание этих метрик."
      ]
    },
    {
      "cell_type": "code",
      "execution_count": 38,
      "metadata": {
        "id": "fi_jhtKBE340",
        "colab": {
          "base_uri": "https://localhost:8080/"
        },
        "outputId": "9eff4be2-8533-4331-c311-7bd0ad04c699"
      },
      "outputs": [
        {
          "output_type": "stream",
          "name": "stderr",
          "text": [
            "<ipython-input-38-dfe97c413b7b>:2: FutureWarning: Series.__getitem__ treating keys as positions is deprecated. In a future version, integer keys will always be treated as labels (consistent with DataFrame behavior). To access a value by position, use `ser.iloc[pos]`\n",
            "  arpu_a = revenue_total.revenue[0] / users_a\n"
          ]
        }
      ],
      "source": [
        "# ARPU для контрольной группы считаю, как отношение общего дохода в группе к числу пользователей в этой группе\n",
        "arpu_a = revenue_total.revenue[0] / users_a"
      ]
    },
    {
      "cell_type": "code",
      "execution_count": 39,
      "metadata": {
        "id": "Ego2WH0zE340",
        "outputId": "fa8154ae-1b91-4a9c-faaf-66a8cb32de46",
        "colab": {
          "base_uri": "https://localhost:8080/"
        }
      },
      "outputs": [
        {
          "output_type": "execute_result",
          "data": {
            "text/plain": [
              "np.float64(25.413719736965806)"
            ]
          },
          "metadata": {},
          "execution_count": 39
        }
      ],
      "source": [
        "arpu_a"
      ]
    },
    {
      "cell_type": "code",
      "execution_count": 40,
      "metadata": {
        "id": "hP33NC81E340",
        "colab": {
          "base_uri": "https://localhost:8080/"
        },
        "outputId": "53bffa8d-e3a2-4972-96aa-5be8697db821"
      },
      "outputs": [
        {
          "output_type": "stream",
          "name": "stderr",
          "text": [
            "<ipython-input-40-b2e5ea0bacf5>:2: FutureWarning: Series.__getitem__ treating keys as positions is deprecated. In a future version, integer keys will always be treated as labels (consistent with DataFrame behavior). To access a value by position, use `ser.iloc[pos]`\n",
            "  arpu_b = revenue_total.revenue[1] / users_b\n"
          ]
        }
      ],
      "source": [
        "# ARPU для тестовой группы считаю, как отношение общего дохода в тестовой группе к числу пользователей в этой группе\n",
        "arpu_b = revenue_total.revenue[1] / users_b"
      ]
    },
    {
      "cell_type": "code",
      "execution_count": 41,
      "metadata": {
        "id": "Wi3yrfKSE340",
        "outputId": "c5859182-a89e-4cb3-ddf5-55b221985e38",
        "colab": {
          "base_uri": "https://localhost:8080/"
        }
      },
      "outputs": [
        {
          "output_type": "execute_result",
          "data": {
            "text/plain": [
              "np.float64(26.75128659327863)"
            ]
          },
          "metadata": {},
          "execution_count": 41
        }
      ],
      "source": [
        "arpu_b"
      ]
    },
    {
      "cell_type": "code",
      "execution_count": 42,
      "metadata": {
        "id": "8TCFvFBVE340",
        "colab": {
          "base_uri": "https://localhost:8080/"
        },
        "outputId": "aed0d95a-de52-405b-df93-b565c9e99d2e"
      },
      "outputs": [
        {
          "output_type": "stream",
          "name": "stderr",
          "text": [
            "<ipython-input-42-cf816f98db71>:2: FutureWarning: Series.__getitem__ treating keys as positions is deprecated. In a future version, integer keys will always be treated as labels (consistent with DataFrame behavior). To access a value by position, use `ser.iloc[pos]`\n",
            "  arppu_a = revenue_total.revenue[0] / paying_users_a\n"
          ]
        }
      ],
      "source": [
        "# ARPPU для контрольной группы считаю, как отношение общего дохода в группе к числу платящих пользователей в этой группе\n",
        "arppu_a = revenue_total.revenue[0] / paying_users_a"
      ]
    },
    {
      "cell_type": "code",
      "execution_count": 43,
      "metadata": {
        "id": "lIQYHEASE340",
        "outputId": "ffb880be-6ec2-4127-8e25-6b77dd94442d",
        "colab": {
          "base_uri": "https://localhost:8080/"
        }
      },
      "outputs": [
        {
          "output_type": "execute_result",
          "data": {
            "text/plain": [
              "np.float64(2663.9984439834025)"
            ]
          },
          "metadata": {},
          "execution_count": 43
        }
      ],
      "source": [
        "arppu_a"
      ]
    },
    {
      "cell_type": "code",
      "execution_count": 45,
      "metadata": {
        "id": "dnVPJqQrE340",
        "colab": {
          "base_uri": "https://localhost:8080/"
        },
        "outputId": "98fb466c-ec10-418e-f121-7b7e33b85e83"
      },
      "outputs": [
        {
          "output_type": "stream",
          "name": "stderr",
          "text": [
            "<ipython-input-45-f2ae0f8a3728>:2: FutureWarning: Series.__getitem__ treating keys as positions is deprecated. In a future version, integer keys will always be treated as labels (consistent with DataFrame behavior). To access a value by position, use `ser.iloc[pos]`\n",
            "  arppu_b = revenue_total.revenue[1] / paying_users_b\n"
          ]
        }
      ],
      "source": [
        "# ARPPU для тестовой группы считаю, как отношение общего дохода в группе к числу платящих пользователей в этой группе\n",
        "arppu_b = revenue_total.revenue[1] / paying_users_b"
      ]
    },
    {
      "cell_type": "code",
      "execution_count": 46,
      "metadata": {
        "id": "S4Uf5bIlE340",
        "outputId": "a107583d-2741-4fd5-c206-0153002c3a39",
        "colab": {
          "base_uri": "https://localhost:8080/"
        }
      },
      "outputs": [
        {
          "output_type": "execute_result",
          "data": {
            "text/plain": [
              "np.float64(3003.6581717451522)"
            ]
          },
          "metadata": {},
          "execution_count": 46
        }
      ],
      "source": [
        "arppu_b"
      ]
    },
    {
      "cell_type": "code",
      "execution_count": 47,
      "metadata": {
        "id": "2Ue1Jw9AE341"
      },
      "outputs": [],
      "source": [
        "# Считаю, на сколько % ARPPU в тестовой группе больше, чем в контрольной группе\n",
        "arppu_diff_percent = arppu_b / arppu_a * 100 - 100"
      ]
    },
    {
      "cell_type": "code",
      "execution_count": 48,
      "metadata": {
        "id": "tZqG-nJ8E341",
        "outputId": "6e41f5ec-32da-4d1d-84b5-250ef06afaad",
        "colab": {
          "base_uri": "https://localhost:8080/"
        }
      },
      "outputs": [
        {
          "output_type": "execute_result",
          "data": {
            "text/plain": [
              "np.float64(12.749997227996346)"
            ]
          },
          "metadata": {},
          "execution_count": 48
        }
      ],
      "source": [
        "arppu_diff_percent"
      ]
    },
    {
      "cell_type": "code",
      "execution_count": 50,
      "metadata": {
        "id": "tlNZjpDHE341"
      },
      "outputs": [],
      "source": [
        "# Считаю CR для контрольной группы, как отношение числа платящих пользователей к общему числу пользователей в группе\n",
        "cr_a = paying_users_a / users_a * 100"
      ]
    },
    {
      "cell_type": "code",
      "execution_count": 51,
      "metadata": {
        "id": "b8DMbeGoE341",
        "outputId": "977ec9e2-7128-4240-fd69-81758274fb18",
        "colab": {
          "base_uri": "https://localhost:8080/"
        }
      },
      "outputs": [
        {
          "output_type": "execute_result",
          "data": {
            "text/plain": [
              "0.9539690157988748"
            ]
          },
          "metadata": {},
          "execution_count": 51
        }
      ],
      "source": [
        "cr_a"
      ]
    },
    {
      "cell_type": "code",
      "execution_count": 52,
      "metadata": {
        "id": "lYEngIkJE341"
      },
      "outputs": [],
      "source": [
        "# Считаю CR для тестовой группы, как отношение числа платящих пользователей к общему числу пользователей в группе\n",
        "cr_b = paying_users_b / users_b * 100"
      ]
    },
    {
      "cell_type": "code",
      "execution_count": 53,
      "metadata": {
        "id": "W1oQ49e4E341",
        "outputId": "3d61c691-1246-4f05-c837-47ae9644cdae",
        "colab": {
          "base_uri": "https://localhost:8080/"
        }
      },
      "outputs": [
        {
          "output_type": "execute_result",
          "data": {
            "text/plain": [
              "0.8906235351586593"
            ]
          },
          "metadata": {},
          "execution_count": 53
        }
      ],
      "source": [
        "cr_b"
      ]
    },
    {
      "cell_type": "code",
      "execution_count": 54,
      "metadata": {
        "id": "MkNiL2c3E341"
      },
      "outputs": [],
      "source": [
        "# Считаю, на сколько конверсия в контрольной группе выше, чем в тестовой\n",
        "cr_diff = cr_a - cr_b"
      ]
    },
    {
      "cell_type": "code",
      "execution_count": 55,
      "metadata": {
        "id": "-l4-auaiE341",
        "outputId": "fcaa2800-0f61-4041-8a9a-039dce51cf2c",
        "colab": {
          "base_uri": "https://localhost:8080/"
        }
      },
      "outputs": [
        {
          "output_type": "execute_result",
          "data": {
            "text/plain": [
              "0.0633454806402155"
            ]
          },
          "metadata": {},
          "execution_count": 55
        }
      ],
      "source": [
        "cr_diff"
      ]
    },
    {
      "cell_type": "code",
      "execution_count": 56,
      "metadata": {
        "id": "Wy6r6KlnE341"
      },
      "outputs": [],
      "source": [
        "# Создаю новый датафрейм, в котором будет общее и конверсионное количество пользователей по группам\n",
        "conversion = task_2.groupby('testgroup').agg(\n",
        "    total_users=('user_id', 'count'),\n",
        "    converted_users=('revenue', lambda x: (x > 0).sum())\n",
        ")"
      ]
    },
    {
      "cell_type": "code",
      "execution_count": 57,
      "metadata": {
        "id": "0puD83osE341",
        "outputId": "cdef3d50-ad42-447b-ee14-38e7baa6dafe",
        "colab": {
          "base_uri": "https://localhost:8080/",
          "height": 143
        }
      },
      "outputs": [
        {
          "output_type": "execute_result",
          "data": {
            "text/plain": [
              "           total_users  converted_users\n",
              "testgroup                              \n",
              "a               202103             1928\n",
              "b               202667             1805"
            ],
            "text/html": [
              "\n",
              "  <div id=\"df-bde13692-76e6-4976-b87b-3f6887cb4ac9\" class=\"colab-df-container\">\n",
              "    <div>\n",
              "<style scoped>\n",
              "    .dataframe tbody tr th:only-of-type {\n",
              "        vertical-align: middle;\n",
              "    }\n",
              "\n",
              "    .dataframe tbody tr th {\n",
              "        vertical-align: top;\n",
              "    }\n",
              "\n",
              "    .dataframe thead th {\n",
              "        text-align: right;\n",
              "    }\n",
              "</style>\n",
              "<table border=\"1\" class=\"dataframe\">\n",
              "  <thead>\n",
              "    <tr style=\"text-align: right;\">\n",
              "      <th></th>\n",
              "      <th>total_users</th>\n",
              "      <th>converted_users</th>\n",
              "    </tr>\n",
              "    <tr>\n",
              "      <th>testgroup</th>\n",
              "      <th></th>\n",
              "      <th></th>\n",
              "    </tr>\n",
              "  </thead>\n",
              "  <tbody>\n",
              "    <tr>\n",
              "      <th>a</th>\n",
              "      <td>202103</td>\n",
              "      <td>1928</td>\n",
              "    </tr>\n",
              "    <tr>\n",
              "      <th>b</th>\n",
              "      <td>202667</td>\n",
              "      <td>1805</td>\n",
              "    </tr>\n",
              "  </tbody>\n",
              "</table>\n",
              "</div>\n",
              "    <div class=\"colab-df-buttons\">\n",
              "\n",
              "  <div class=\"colab-df-container\">\n",
              "    <button class=\"colab-df-convert\" onclick=\"convertToInteractive('df-bde13692-76e6-4976-b87b-3f6887cb4ac9')\"\n",
              "            title=\"Convert this dataframe to an interactive table.\"\n",
              "            style=\"display:none;\">\n",
              "\n",
              "  <svg xmlns=\"http://www.w3.org/2000/svg\" height=\"24px\" viewBox=\"0 -960 960 960\">\n",
              "    <path d=\"M120-120v-720h720v720H120Zm60-500h600v-160H180v160Zm220 220h160v-160H400v160Zm0 220h160v-160H400v160ZM180-400h160v-160H180v160Zm440 0h160v-160H620v160ZM180-180h160v-160H180v160Zm440 0h160v-160H620v160Z\"/>\n",
              "  </svg>\n",
              "    </button>\n",
              "\n",
              "  <style>\n",
              "    .colab-df-container {\n",
              "      display:flex;\n",
              "      gap: 12px;\n",
              "    }\n",
              "\n",
              "    .colab-df-convert {\n",
              "      background-color: #E8F0FE;\n",
              "      border: none;\n",
              "      border-radius: 50%;\n",
              "      cursor: pointer;\n",
              "      display: none;\n",
              "      fill: #1967D2;\n",
              "      height: 32px;\n",
              "      padding: 0 0 0 0;\n",
              "      width: 32px;\n",
              "    }\n",
              "\n",
              "    .colab-df-convert:hover {\n",
              "      background-color: #E2EBFA;\n",
              "      box-shadow: 0px 1px 2px rgba(60, 64, 67, 0.3), 0px 1px 3px 1px rgba(60, 64, 67, 0.15);\n",
              "      fill: #174EA6;\n",
              "    }\n",
              "\n",
              "    .colab-df-buttons div {\n",
              "      margin-bottom: 4px;\n",
              "    }\n",
              "\n",
              "    [theme=dark] .colab-df-convert {\n",
              "      background-color: #3B4455;\n",
              "      fill: #D2E3FC;\n",
              "    }\n",
              "\n",
              "    [theme=dark] .colab-df-convert:hover {\n",
              "      background-color: #434B5C;\n",
              "      box-shadow: 0px 1px 3px 1px rgba(0, 0, 0, 0.15);\n",
              "      filter: drop-shadow(0px 1px 2px rgba(0, 0, 0, 0.3));\n",
              "      fill: #FFFFFF;\n",
              "    }\n",
              "  </style>\n",
              "\n",
              "    <script>\n",
              "      const buttonEl =\n",
              "        document.querySelector('#df-bde13692-76e6-4976-b87b-3f6887cb4ac9 button.colab-df-convert');\n",
              "      buttonEl.style.display =\n",
              "        google.colab.kernel.accessAllowed ? 'block' : 'none';\n",
              "\n",
              "      async function convertToInteractive(key) {\n",
              "        const element = document.querySelector('#df-bde13692-76e6-4976-b87b-3f6887cb4ac9');\n",
              "        const dataTable =\n",
              "          await google.colab.kernel.invokeFunction('convertToInteractive',\n",
              "                                                    [key], {});\n",
              "        if (!dataTable) return;\n",
              "\n",
              "        const docLinkHtml = 'Like what you see? Visit the ' +\n",
              "          '<a target=\"_blank\" href=https://colab.research.google.com/notebooks/data_table.ipynb>data table notebook</a>'\n",
              "          + ' to learn more about interactive tables.';\n",
              "        element.innerHTML = '';\n",
              "        dataTable['output_type'] = 'display_data';\n",
              "        await google.colab.output.renderOutput(dataTable, element);\n",
              "        const docLink = document.createElement('div');\n",
              "        docLink.innerHTML = docLinkHtml;\n",
              "        element.appendChild(docLink);\n",
              "      }\n",
              "    </script>\n",
              "  </div>\n",
              "\n",
              "\n",
              "<div id=\"df-edde4da4-69a7-44ed-9de9-21c5b19cb846\">\n",
              "  <button class=\"colab-df-quickchart\" onclick=\"quickchart('df-edde4da4-69a7-44ed-9de9-21c5b19cb846')\"\n",
              "            title=\"Suggest charts\"\n",
              "            style=\"display:none;\">\n",
              "\n",
              "<svg xmlns=\"http://www.w3.org/2000/svg\" height=\"24px\"viewBox=\"0 0 24 24\"\n",
              "     width=\"24px\">\n",
              "    <g>\n",
              "        <path d=\"M19 3H5c-1.1 0-2 .9-2 2v14c0 1.1.9 2 2 2h14c1.1 0 2-.9 2-2V5c0-1.1-.9-2-2-2zM9 17H7v-7h2v7zm4 0h-2V7h2v10zm4 0h-2v-4h2v4z\"/>\n",
              "    </g>\n",
              "</svg>\n",
              "  </button>\n",
              "\n",
              "<style>\n",
              "  .colab-df-quickchart {\n",
              "      --bg-color: #E8F0FE;\n",
              "      --fill-color: #1967D2;\n",
              "      --hover-bg-color: #E2EBFA;\n",
              "      --hover-fill-color: #174EA6;\n",
              "      --disabled-fill-color: #AAA;\n",
              "      --disabled-bg-color: #DDD;\n",
              "  }\n",
              "\n",
              "  [theme=dark] .colab-df-quickchart {\n",
              "      --bg-color: #3B4455;\n",
              "      --fill-color: #D2E3FC;\n",
              "      --hover-bg-color: #434B5C;\n",
              "      --hover-fill-color: #FFFFFF;\n",
              "      --disabled-bg-color: #3B4455;\n",
              "      --disabled-fill-color: #666;\n",
              "  }\n",
              "\n",
              "  .colab-df-quickchart {\n",
              "    background-color: var(--bg-color);\n",
              "    border: none;\n",
              "    border-radius: 50%;\n",
              "    cursor: pointer;\n",
              "    display: none;\n",
              "    fill: var(--fill-color);\n",
              "    height: 32px;\n",
              "    padding: 0;\n",
              "    width: 32px;\n",
              "  }\n",
              "\n",
              "  .colab-df-quickchart:hover {\n",
              "    background-color: var(--hover-bg-color);\n",
              "    box-shadow: 0 1px 2px rgba(60, 64, 67, 0.3), 0 1px 3px 1px rgba(60, 64, 67, 0.15);\n",
              "    fill: var(--button-hover-fill-color);\n",
              "  }\n",
              "\n",
              "  .colab-df-quickchart-complete:disabled,\n",
              "  .colab-df-quickchart-complete:disabled:hover {\n",
              "    background-color: var(--disabled-bg-color);\n",
              "    fill: var(--disabled-fill-color);\n",
              "    box-shadow: none;\n",
              "  }\n",
              "\n",
              "  .colab-df-spinner {\n",
              "    border: 2px solid var(--fill-color);\n",
              "    border-color: transparent;\n",
              "    border-bottom-color: var(--fill-color);\n",
              "    animation:\n",
              "      spin 1s steps(1) infinite;\n",
              "  }\n",
              "\n",
              "  @keyframes spin {\n",
              "    0% {\n",
              "      border-color: transparent;\n",
              "      border-bottom-color: var(--fill-color);\n",
              "      border-left-color: var(--fill-color);\n",
              "    }\n",
              "    20% {\n",
              "      border-color: transparent;\n",
              "      border-left-color: var(--fill-color);\n",
              "      border-top-color: var(--fill-color);\n",
              "    }\n",
              "    30% {\n",
              "      border-color: transparent;\n",
              "      border-left-color: var(--fill-color);\n",
              "      border-top-color: var(--fill-color);\n",
              "      border-right-color: var(--fill-color);\n",
              "    }\n",
              "    40% {\n",
              "      border-color: transparent;\n",
              "      border-right-color: var(--fill-color);\n",
              "      border-top-color: var(--fill-color);\n",
              "    }\n",
              "    60% {\n",
              "      border-color: transparent;\n",
              "      border-right-color: var(--fill-color);\n",
              "    }\n",
              "    80% {\n",
              "      border-color: transparent;\n",
              "      border-right-color: var(--fill-color);\n",
              "      border-bottom-color: var(--fill-color);\n",
              "    }\n",
              "    90% {\n",
              "      border-color: transparent;\n",
              "      border-bottom-color: var(--fill-color);\n",
              "    }\n",
              "  }\n",
              "</style>\n",
              "\n",
              "  <script>\n",
              "    async function quickchart(key) {\n",
              "      const quickchartButtonEl =\n",
              "        document.querySelector('#' + key + ' button');\n",
              "      quickchartButtonEl.disabled = true;  // To prevent multiple clicks.\n",
              "      quickchartButtonEl.classList.add('colab-df-spinner');\n",
              "      try {\n",
              "        const charts = await google.colab.kernel.invokeFunction(\n",
              "            'suggestCharts', [key], {});\n",
              "      } catch (error) {\n",
              "        console.error('Error during call to suggestCharts:', error);\n",
              "      }\n",
              "      quickchartButtonEl.classList.remove('colab-df-spinner');\n",
              "      quickchartButtonEl.classList.add('colab-df-quickchart-complete');\n",
              "    }\n",
              "    (() => {\n",
              "      let quickchartButtonEl =\n",
              "        document.querySelector('#df-edde4da4-69a7-44ed-9de9-21c5b19cb846 button');\n",
              "      quickchartButtonEl.style.display =\n",
              "        google.colab.kernel.accessAllowed ? 'block' : 'none';\n",
              "    })();\n",
              "  </script>\n",
              "</div>\n",
              "    </div>\n",
              "  </div>\n"
            ],
            "application/vnd.google.colaboratory.intrinsic+json": {
              "type": "dataframe",
              "variable_name": "conversion",
              "summary": "{\n  \"name\": \"conversion\",\n  \"rows\": 2,\n  \"fields\": [\n    {\n      \"column\": \"testgroup\",\n      \"properties\": {\n        \"dtype\": \"string\",\n        \"num_unique_values\": 2,\n        \"samples\": [\n          \"b\",\n          \"a\"\n        ],\n        \"semantic_type\": \"\",\n        \"description\": \"\"\n      }\n    },\n    {\n      \"column\": \"total_users\",\n      \"properties\": {\n        \"dtype\": \"number\",\n        \"std\": 398,\n        \"min\": 202103,\n        \"max\": 202667,\n        \"num_unique_values\": 2,\n        \"samples\": [\n          202667,\n          202103\n        ],\n        \"semantic_type\": \"\",\n        \"description\": \"\"\n      }\n    },\n    {\n      \"column\": \"converted_users\",\n      \"properties\": {\n        \"dtype\": \"number\",\n        \"std\": 86,\n        \"min\": 1805,\n        \"max\": 1928,\n        \"num_unique_values\": 2,\n        \"samples\": [\n          1805,\n          1928\n        ],\n        \"semantic_type\": \"\",\n        \"description\": \"\"\n      }\n    }\n  ]\n}"
            }
          },
          "metadata": {},
          "execution_count": 57
        }
      ],
      "source": [
        "conversion"
      ]
    },
    {
      "cell_type": "code",
      "execution_count": 58,
      "metadata": {
        "id": "rLWbFgumE341"
      },
      "outputs": [],
      "source": [
        "# Извлекаю данные по группам и пользователям в отдельные переменные для проведния Z-теста\n",
        "all_group_a = conversion.loc['a', 'total_users']\n",
        "all_group_b = conversion.loc['b', 'total_users']\n",
        "converted_a = conversion.loc['a', 'converted_users']\n",
        "converted_b = conversion.loc['b', 'converted_users']"
      ]
    },
    {
      "cell_type": "code",
      "execution_count": 59,
      "metadata": {
        "id": "tHXhTLVwE341",
        "outputId": "33ef11c1-6784-4f11-f0a4-5986ff9fe1af",
        "colab": {
          "base_uri": "https://localhost:8080/"
        }
      },
      "outputs": [
        {
          "output_type": "stream",
          "name": "stdout",
          "text": [
            "Z-score: 2.108028495889841, P-value: 0.035028524642854865\n"
          ]
        }
      ],
      "source": [
        "# Провожу Z-тест для оценки наличия статистически значимой разницы между конверсиями\n",
        "z_score, p_value = proportions_ztest([converted_a, converted_b], [all_group_a, all_group_b])\n",
        "print(f'Z-score: {z_score}, P-value: {p_value}')"
      ]
    },
    {
      "cell_type": "markdown",
      "metadata": {
        "id": "mM0e8jdNE341"
      },
      "source": [
        "По итогам статистического теста конверсии p-value меньше 0,05, что говорит о наличие статистически значимых различий в конверсиях между группами. Однако, как уже было описано ранее, есть сомнения в корректности проведения А/Б теста в целом."
      ]
    },
    {
      "cell_type": "markdown",
      "metadata": {
        "id": "z5RAh7GWE341"
      },
      "source": [
        "По итогам расчетов получилось, что ARPU в тестовой группе выше на 5%, чем в контрольной, ARPPU выше на 12,7%, при этом CR в контрольной группе выше на 0,06%, чем в тестовой. Однако, проведенные выше T-test'ы и крайне большие различия между стандартными отклонениями и максимальными значениями в группах по revenue не позволяют нам определить эти различия в метриках как статистически значимые, поэтому по проведенному А/Б тесту мы не можем определить лучший набор акционных предложений."
      ]
    },
    {
      "cell_type": "markdown",
      "metadata": {
        "id": "p_-VUekkE341"
      },
      "source": [
        "# Задание 3:"
      ]
    },
    {
      "cell_type": "markdown",
      "metadata": {
        "id": "mvoeJp0FE341"
      },
      "source": [
        "# Для оценки результата последнего прошедшего события я бы использовал следующие метрики роста:\n",
        "\n",
        "1) <b>Уровень участия игроков в ивенте</b> - рассчитывал бы как отношение общего числа игроков за время ивента к числу игроков, которые участвовали в тематических событиях. Эта метрика показала бы нам, какой % от всей нашей аудитории был заинтересован в ивенте;\n",
        "\n",
        "2) <b>Retention</b> - здесь оценил бы, вырастет ли Retention rate у игроков во время ивента, т.к., скорее всего, изначально мы предполагаем, что тематические игровые ивенты должны повышать активность игроков, что будет заметно в изменениях Retention, а если этого не происходит, то, вероятно, наш ивент не совсем удачный;\n",
        "\n",
        "3) <b>Churn rate</b> - здесь оценил бы, сократится ли данная метрика, учитывая, что в игре появилось новое, вероятно, привлекательное для игроков событие;\n",
        "\n",
        "4) <b>ARPU и ARPPU</b> - предполагаю, что проходить уровни либо получать подсказки/бонусы/бустеры и т.д. можно будет за счет внутриигровых покупок, поэтому логично рассчитать эти 2 метрики во время ивента, т.к., очевидно, что мы ожидаем рост этих метрик;\n",
        "\n",
        "5) <b>Прирост новых платящих пользователей</b> - здесь, думаю, было бы логично оценить, насколько % вырастет количество платящих пользователей в нашей игре. То есть, какой процент ранее не платящих пользователей станут платящими именно во время ивента.\n",
        "\n",
        "# И эти метрики продукта:\n",
        "\n",
        "1) <b>Среднее время на прохождение уровня/всего ивента</b> - здесь оценил бы, сколько в среднем времени игроки тратят на прохождение того или иного уровня или на весь ивент сразу. Эта метрика поможет оценить нам \"сложность\" ивента. Возможно, наш ивент окажется либо слишком затянутым и сложным, либо наоборот слишком легким;\n",
        "\n",
        "2) <b>Уровень прохождения ивента игроками</b> - эта метрика выглядела бы как % игроков, которые дошли до определенного этапа ивента. Например, если у нас 5 уровней в ивенте, то определить, какой % игроков прошел каждый из 5 уровней и сколько всего пользователей прошли весь ивент. Эта метрика тоже поможет оценить \"сложность\" ивента и заинтересованность пользователей в нем;\n",
        "\n",
        "3) <b>Отзыв пользователей об ивенте</b> - добавить небольшой опрос об удовлетворенности ивентом после прохождения определенного количества уровней, либо для каждого пользователя, кто хоть раз поучаствовал в ивенте, и оценить их ответы с оценками ивента.\n",
        "\n",
        "# Метрики роста после усложнения механики событий:\n",
        "\n",
        "1) <b>Churn rate</b> - предполагаю, что для части аудитории такая механика \"отката\" уровней назад может оказаться неприятной, и, вполне вероятно, что коэффициент оттока пользователей увеличится;\n",
        "\n",
        "2) <b>ARPU и ARPPU</b> - оценить, побудит ли усложнение ивента игроков совершать внутриигровые покупки активнее;\n",
        "\n",
        "# Метрики продукта после усложнения механики событий:\n",
        "\n",
        "1) <b>Процент пользователей, которые бросили ивент после одного \"отката\" назад</b> - здесь оценил бы, какой % игроков перестанут заходить в ивент после одной неудачной попытки. Эта метрика покажет нам, как наши игроки отреагировали на такую механику. Предположу, что, например, эта метрика при значении в 50% говорила бы нам о том, что наш эксперимент с усложнением ивента неудачный, т.к. половина игроков перестанет участвовать в ивенте после первой неудачи;\n",
        "\n",
        "2) <b>Отзыв пользователей об ивенте</b> - добавить небольшой опрос об удовлетворенности ивентом после прохождения определенного количества уровней, либо для каждого пользователя, кто хоть раз поучаствовал в ивенте, и оценить их ответы с оценками ивента. Если механика отката уровней была добавлена после обычного ивента с уровнями, то оценить, вырасло ли количество негативных отзывов об ивенте, или же пользователям наоборот понравилось сложность в прохождении ивента."
      ]
    }
  ],
  "metadata": {
    "kernelspec": {
      "display_name": "Python 3",
      "language": "python",
      "name": "python3"
    },
    "language_info": {
      "codemirror_mode": {
        "name": "ipython",
        "version": 3
      },
      "file_extension": ".py",
      "mimetype": "text/x-python",
      "name": "python",
      "nbconvert_exporter": "python",
      "pygments_lexer": "ipython3",
      "version": "3.7.3"
    },
    "colab": {
      "provenance": []
    }
  },
  "nbformat": 4,
  "nbformat_minor": 0
}